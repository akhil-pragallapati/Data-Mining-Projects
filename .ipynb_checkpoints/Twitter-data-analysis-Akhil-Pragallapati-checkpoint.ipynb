{
 "cells": [
  {
   "cell_type": "markdown",
   "metadata": {
    "id": "fsjq366HA18T"
   },
   "source": [
    "# Project : Collecting Data from Twitter and analyzing it"
   ]
  },
  {
   "cell_type": "markdown",
   "metadata": {
    "id": "31lTqAzjA18W"
   },
   "source": [
    "<img src=\"https://logos-download.com/wp-content/uploads/2016/02/Twitter_Logo_new-700x569.png\">"
   ]
  },
  {
   "cell_type": "markdown",
   "metadata": {
    "id": "Fxc6cgPOA18Y"
   },
   "source": [
    "**Suggested Readings:** \n",
    "* Chapter 1 and Chapter 9 of the book \"Mining the Social Web\" can help a lot if you get stuck. \n",
    "* In fact, the Twitter tutorial can help you with many problems in this project.\n",
    "\n",
    "**Don't forget!**\n",
    "* You will need to install the twitter library to access the Twitter API\n",
    " * pip install twitter"
   ]
  },
  {
   "cell_type": "markdown",
   "metadata": {
    "id": "e-uJJaulA18Y"
   },
   "source": [
    "# Sampling Twitter Data with the Search API about a certain topic"
   ]
  },
  {
   "cell_type": "code",
   "execution_count": null,
   "metadata": {
    "colab": {
     "base_uri": "https://localhost:8080/"
    },
    "id": "UHlfqylGDAEo",
    "outputId": "661f68ac-11be-4144-a801-497f17deb3a6"
   },
   "outputs": [
    {
     "name": "stdout",
     "output_type": "stream",
     "text": [
      "Requirement already satisfied: twitter in /usr/local/lib/python3.7/dist-packages (1.19.3)\n"
     ]
    }
   ],
   "source": [
    "! pip install twitter"
   ]
  },
  {
   "cell_type": "code",
   "execution_count": 1,
   "metadata": {
    "id": "3DcAmeG9A18Z"
   },
   "outputs": [],
   "source": [
    "import twitter\n",
    "#---------------------------------------------\n",
    "# Define a Function to Login Twitter API\n",
    "def oauth_login():\n",
    "    # See https://developer.twitter.com/docs/auth/oauth for more information \n",
    "    # on Twitter's OAuth implementation.\n",
    "    \n",
    "    CONSUMER_KEY = 'iSup9jCLJ9IWN7YwXBQBiv07M' # my developer twitter API key\n",
    "    CONSUMER_SECRET ='p8uCq4VGTD00LrWGeLEYVd9sz59caJEtmzY6ppsSaBcbx1P6xf' # my twitter API Key Secret \n",
    "    OAUTH_TOKEN = '1420264351-z2jXoURtanZG09HIZL7oQdEIvmJtJ2ktGVvVcAM' # My twitter access token\n",
    "    OAUTH_TOKEN_SECRET = '3LTU1djibdAVjUwJeQFAHlurpLAzClEGT09hjdzR9hVYL' # My twitter access token sercet key\n",
    "    \n",
    "    auth = twitter.oauth.OAuth(OAUTH_TOKEN, OAUTH_TOKEN_SECRET,\n",
    "                               CONSUMER_KEY, CONSUMER_SECRET)\n",
    "    \n",
    "    twitter_api = twitter.Twitter(auth=auth)\n",
    "    return twitter_api\n"
   ]
  },
  {
   "cell_type": "code",
   "execution_count": 3,
   "metadata": {},
   "outputs": [
    {
     "name": "stdout",
     "output_type": "stream",
     "text": [
      "<twitter.api.Twitter object at 0x0000013F67603EB0>\n",
      "\n",
      "The no of tweets collected are : 599\n"
     ]
    }
   ],
   "source": [
    "#----------------------------------------------\n",
    "# Your code starts here\n",
    "#   Please add comments or text cells in between to explain the general idea of each block of the code.\n",
    "#   Please feel free to add more cells below this cell if necessary\n",
    "\n",
    "import json\n",
    "q= \"MCIMUN\" # Topic hashtag\n",
    "\n",
    "c = 100 # search count\n",
    "\n",
    "# Authenticating using the oauth_login() function defined above \n",
    "twitter_api = oauth_login()\n",
    "\n",
    "print(twitter_api) # printing the authentication result\n",
    "search_results = twitter_api.search.tweets(q=q, count=c) # Returns a Dictionary with 2 key-values, one is statuses and another key is search_metadata\n",
    "\n",
    "\n",
    "statuses = search_results['statuses'] # Gives a list of dictionaries with each dictionary contains a tweet info\n",
    "\n",
    "# Iterating through 5 more batches of results by following the cursor\n",
    "#print(statuses)\n",
    "for _ in range(5):\n",
    "    #print(\"Length of statuses\", len(statuses))\n",
    "    try:\n",
    "        next_results = search_results['search_metadata']['next_results']\n",
    "        #print(next_results)\n",
    "    except KeyError: # No more results when next_results doesn't exist\n",
    "        break\n",
    "        \n",
    "    # Create a dictionary from next_results\n",
    "    kwargs = dict([ kv.split('=') for kv in next_results[1:].split(\"&\") ])\n",
    "    #print(kwargs)\n",
    "    search_results = twitter_api.search.tweets(**kwargs)\n",
    "    statuses += search_results['statuses']\n",
    "\n",
    "# storing the statuses data to a .json local file    \n",
    "storeStatusFileObject = open(\"sampleDataStatus.json\", \"w\")    \n",
    "json.dump(statuses,storeStatusFileObject, indent = 4)\n",
    "storeStatusFileObject.close()\n",
    "\n",
    "\n",
    "# storing the search_results data to a .json local file\n",
    "storeFileObject = open(\"sampleDataSearchResultsAfter.json\", \"w\")\n",
    "json.dump(search_results,storeFileObject, indent = 4)\n",
    "storeFileObject.close()\n",
    "\n",
    "print(\"\\nThe no of tweets collected are : \" + str(len(statuses)))\n"
   ]
  },
  {
   "cell_type": "markdown",
   "metadata": {
    "id": "xHvwKm5sA18e"
   },
   "source": [
    "#  Analyzing Tweets and Tweet Entities with Frequency Analysis\n"
   ]
  },
  {
   "cell_type": "code",
   "execution_count": 5,
   "metadata": {
    "id": "V_ZHKBRuA18e"
   },
   "outputs": [
    {
     "name": "stdout",
     "output_type": "stream",
     "text": [
      "\n",
      " The total number of tweets : 599\n",
      "\n",
      " The total words: 9767\n",
      "+------------+-------+\n",
      "| Word       | Count |\n",
      "+------------+-------+\n",
      "| RT         |   469 |\n",
      "| #MCIMUN    |   338 |\n",
      "| the        |   174 |\n",
      "| #MUFC      |   125 |\n",
      "| ,          |   116 |\n",
      "| ||         |    95 |\n",
      "| @ManUtd:   |    91 |\n",
      "| for        |    90 |\n",
      "| and        |    88 |\n",
      "| in         |    80 |\n",
      "| to         |    78 |\n",
      "| I          |    72 |\n",
      "| a          |    68 |\n",
      "| Manchester |    58 |\n",
      "| Man        |    56 |\n",
      "| City       |    50 |\n",
      "| Haaland    |    49 |\n",
      "| is         |    48 |\n",
      "| on         |    46 |\n",
      "| of         |    46 |\n",
      "| as         |    41 |\n",
      "| fans       |    38 |\n",
      "| an         |    35 |\n",
      "| like       |    33 |\n",
      "| The        |    32 |\n",
      "| United     |    32 |\n",
      "| A          |    32 |\n",
      "| Ronaldo    |    31 |\n",
      "| was        |    30 |\n",
      "| back       |    30 |\n",
      "+------------+-------+\n"
     ]
    }
   ],
   "source": [
    "#----------------------------------------------\n",
    "# Your code starts here\n",
    "#   Please add comments or text cells in between to explain the general idea of each block of the code.\n",
    "#   Please feel free to add more cells below this cell if necessary\n",
    "\n",
    "from collections import Counter  # importing counter functions for word count\n",
    "from prettytable import PrettyTable # importing PrettyTable functions for displaying the output in standard format\n",
    "\n",
    "wordsLi = [] # empty list to store all the words  as list\n",
    "print(\"\\n The total number of tweets : \" + str(len(statuses)))\n",
    "for i in statuses:\n",
    "    a = i[\"text\"].split()  # taking the text from each tweet\n",
    "    wordsLi = wordsLi + a\n",
    "    \n",
    "print(\"\\n The total words: \" + str(len(wordsLi)))\n",
    "#print(wordsLi)\n",
    "\n",
    "c = Counter(wordsLi) # returns a list with tuples containing word and the count for the word\n",
    "\n",
    "#print(c.most_common()[:30]) #Printing the top 30\n",
    "\n",
    "pt = PrettyTable(field_names=['Word', 'Count']) \n",
    "\n",
    "[ pt.add_row(kv) for kv in c.most_common()[:30] ]\n",
    "pt.align['Word'], pt.align['Count'] = 'l', 'r' # Set column alignment\n",
    "print(pt) #Printing the top 30"
   ]
  },
  {
   "cell_type": "markdown",
   "metadata": {
    "id": "DMigKzFlA18e"
   },
   "source": [
    "* the most popular tweets in your collection of tweets**"
   ]
  },
  {
   "cell_type": "code",
   "execution_count": 6,
   "metadata": {
    "id": "JrxgbEBRA18f"
   },
   "outputs": [
    {
     "name": "stdout",
     "output_type": "stream",
     "text": [
      "\n",
      " The 10 tweets that are the most popular among the collection \n",
      " \n",
      "+-------+---------------+------------------------------------------------------------------------------------------------------+\n",
      "| Count | Screen Name   | Text                                                                                                 |\n",
      "+-------+---------------+------------------------------------------------------------------------------------------------------+\n",
      "| 8133  | ManUtd        | RT @ManUtd: 🥊 In the red corner...                                                                  |\n",
      "|       |               |                                                                                                      |\n",
      "|       |               | #MUFC || #MCIMUN                                                                                     |\n",
      "| 7033  | premierleague | RT @premierleague: The first player in #PL history to score a hat-trick in three successive home     |\n",
      "|       |               | matches 👏                                                                                           |\n",
      "|       |               |                                                                                                      |\n",
      "|       |               | Take a bow, @ErlingHaaland                                                                           |\n",
      "|       |               |                                                                                                      |\n",
      "|       |               | #M…                                                                                                  |\n",
      "| 5572  | Casemiro      | RT @Casemiro: Mood 🔴                                                                                |\n",
      "|       |               |                                                                                                      |\n",
      "|       |               | #MUFC #MCIMUN #PL https://t.co/mmtQGd6xOm                                                            |\n",
      "| 5572  | Casemiro      | RT @Casemiro: Mood 🔴                                                                                |\n",
      "|       |               |                                                                                                      |\n",
      "|       |               | #MUFC #MCIMUN #PL https://t.co/mmtQGd6xOm                                                            |\n",
      "| 5572  | Casemiro      | RT @Casemiro: Mood 🔴                                                                                |\n",
      "|       |               |                                                                                                      |\n",
      "|       |               | #MUFC #MCIMUN #PL https://t.co/mmtQGd6xOm                                                            |\n",
      "| 5572  | Casemiro      | RT @Casemiro: Mood 🔴                                                                                |\n",
      "|       |               |                                                                                                      |\n",
      "|       |               | #MUFC #MCIMUN #PL https://t.co/mmtQGd6xOm                                                            |\n",
      "| 5572  | Casemiro      | RT @Casemiro: Mood 🔴                                                                                |\n",
      "|       |               |                                                                                                      |\n",
      "|       |               | #MUFC #MCIMUN #PL https://t.co/mmtQGd6xOm                                                            |\n",
      "| 4399  | ManUtd        | RT @ManUtd: Goal. 4-0.                                                                               |\n",
      "|       |               |                                                                                                      |\n",
      "|       |               | #MUFC || #MCIMUN                                                                                     |\n",
      "| 4399  | ManUtd        | RT @ManUtd: Goal. 4-0.                                                                               |\n",
      "|       |               |                                                                                                      |\n",
      "|       |               | #MUFC || #MCIMUN                                                                                     |\n",
      "| 3739  | CFCSammy___   | RT @CFCSammy___: Grealish sending Casemiro back to Brazil 😭😭 #MCIMUN https://t.co/KuNTM2nIqw       |\n",
      "+-------+---------------+------------------------------------------------------------------------------------------------------+\n"
     ]
    }
   ],
   "source": [
    "#----------------------------------------------\n",
    "# Your code starts here\n",
    "#   Please add comments or text cells in between to explain the general idea of each block of the code.\n",
    "#   Please feel free to add more cells below this cell if necessary\n",
    "\n",
    "# Creating a list of retweets with the retweet count and user name \n",
    "retweets = [\n",
    "            (status['retweet_count'], \n",
    "             status['retweeted_status']['user']['screen_name'],\n",
    "             status['text']) \n",
    "            \n",
    "            for status in statuses \n",
    "            \n",
    "                if 'retweeted_status'in status\n",
    "           ]\n",
    "\n",
    "print(\"\\n The 10 tweets that are the most popular among the collection \\n \")\n",
    "pt = PrettyTable(field_names=['Count', 'Screen Name', 'Text'])\n",
    "[ pt.add_row(row) for row in sorted(retweets, reverse=True)[:10] ]\n",
    "pt.max_width['Text'] = 100\n",
    "pt.align= 'l'\n",
    "print(pt)"
   ]
  },
  {
   "cell_type": "markdown",
   "metadata": {
    "id": "fbUOQT32A18f"
   },
   "source": [
    "* The most popular Tweet Entities in your collection of tweets**"
   ]
  },
  {
   "cell_type": "code",
   "execution_count": 7,
   "metadata": {
    "id": "DKYkobrzA18f"
   },
   "outputs": [
    {
     "name": "stdout",
     "output_type": "stream",
     "text": [
      "\n",
      " The top 10 hashtags, top 10 user mentions that are the most popular among the collection: \n",
      " \n",
      "+-----------------+-------+\n",
      "| Screen Name     | Count |\n",
      "+-----------------+-------+\n",
      "| ManUtd          |    98 |\n",
      "| ManCity         |    33 |\n",
      "| premierleague   |    29 |\n",
      "| Citizen_Maine   |    24 |\n",
      "| city_rabin      |    23 |\n",
      "| mcfcfeed        |    23 |\n",
      "| PLforIndia      |    17 |\n",
      "| CFCSammy___     |    15 |\n",
      "| kollybreezy     |    14 |\n",
      "| Lebonmaillotoff |    13 |\n",
      "+-----------------+-------+\n",
      "+-----------------+-------+\n",
      "| Hashtag         | Count |\n",
      "+-----------------+-------+\n",
      "| MCIMUN          |   343 |\n",
      "| MUFC            |   126 |\n",
      "| cotedivoire     |    30 |\n",
      "| CIV225          |    30 |\n",
      "| Coolio          |    30 |\n",
      "| NFTs            |    30 |\n",
      "| PL              |    24 |\n",
      "| mancity         |    24 |\n",
      "| ManchesterDerby |    20 |\n",
      "| Haaland         |    20 |\n",
      "+-----------------+-------+\n"
     ]
    }
   ],
   "source": [
    "#----------------------------------------------\n",
    "# Your code starts here\n",
    "#   Please add comments or text cells in between to explain the general idea of each block of the code.\n",
    "#   Please feel free to add more cells below this cell if necessary\n",
    "\n",
    "from prettytable import PrettyTable\n",
    "\n",
    "# Extracting the screen name from the collected statuses data\n",
    "screen_names = [ user_mention['screen_name'] \n",
    "                 for status in statuses\n",
    "                     for user_mention in status['entities']['user_mentions'] ]\n",
    "\n",
    "# Extracting the hashtags from the collected statuses data\n",
    "hashtags = [ hashtag['text'] \n",
    "             for status in statuses\n",
    "                 for hashtag in status['entities']['hashtags'] ]\n",
    "\n",
    "print(\"\\n The top 10 hashtags, top 10 user mentions that are the most popular among the collection: \\n \")\n",
    "\n",
    "for label, data in (('Screen Name', screen_names), \n",
    "                    ('Hashtag', hashtags)):\n",
    "    pt = PrettyTable(field_names=[label, 'Count']) \n",
    "    c = Counter(data)\n",
    "    [ pt.add_row(kv) for kv in c.most_common()[:10] ]\n",
    "    pt.align[label], pt.align['Count'] = 'l', 'r' # Setting the column alignment\n",
    "    print(pt)"
   ]
  },
  {
   "cell_type": "markdown",
   "metadata": {
    "id": "sLEC3fX_A18g"
   },
   "source": [
    "\n",
    "\n",
    "#  Getting \"All\" friends and \"All\" followers of a popular user in twitter\n"
   ]
  },
  {
   "cell_type": "markdown",
   "metadata": {
    "id": "-wTKbSAnA18g"
   },
   "source": [
    "* list of all friends and all followers of the twitter user.**"
   ]
  },
  {
   "cell_type": "code",
   "execution_count": 38,
   "metadata": {},
   "outputs": [
    {
     "name": "stdout",
     "output_type": "stream",
     "text": [
      "\n",
      " Total number of friends the user akhil pragallapati having are : 92\n",
      "\n",
      " The list of friends : \n",
      "['USAndIndia', 'tarak9999', 'isro', 'WHO', 'sundarpichai', 'RNTata2000', 'rajinikanth', 'MadavanSubiksha', 'KaranSreekanth', 'Girishsardar44', 'SastraUniv', 'SASTRA_Racing', 'Sastratbi', 'NASA', 'BillGates', 'SpaceX', 'elonmusk', 'Tesla', 'SrinivasBaddig1', 'tatacapital', 'SVaidhyasubrama', 'rajnathsingh', 'AmitShah', 'arunjaitley', 'ImRo45', 'imVkohli', 'PMOIndia', 'sachin_rt', 'narendramodi', 'anandmahindra', 'RenaultIndia', 'WarnerBrosIndia', 'BBCWorld', 'CNN', 'TheFarahKhan', 'VineethsaranS', 'Yeshwan35859737', 'vikas_gunnam', '007UmaMaheshwar', 'TelakPrakash', 'chaitanya4svk', '97sunil1', 'SruthiSVenkata1', '____santhosh___', 'mukku_sandeep', 'neevarps123', 'Praveennaidu01', 'neerajvarmacfc', 'MuraliK56014385', 'MUDDUKR95158', 'MNVSuryaDeep', 'satish_lakshman', 'Kiranma38535661', 'deadpool9953', 'HskSravan', 'Dheerkesh1', 'Balamur49983551', 'Anjan04907474', 'KapilSharmaK9', 'SidMalhotra', 'ShraddhaKapoor', 'RanveerOfficial', 'Varun_dvn', 'Suriya_offl', 'dhanushkraja', 'shankarshanmugh', 'RJ_Balaji', 'BCCI', 'the_hindu', 'TimesNow', 'RahulGandhi', 'karanjohar', 'SrBachchan', 'EconomicTimes', 'TOIIndiaNews', 'timesofindia', 'Riteishd', 'htTweets', 'AamAadmiParty', 'arrahman', 'SamsungMobile', 'FarOutAkhtar', 'iamsrk', 'ParineetiChopra', 'deepikapadukone', 'AnushkaSharma', 'ndtv', 'shahidkapoor', 'akshaykumar', 'juniorbachchan', 'virendersehwag', 'priyankachopra']\n",
      "\n",
      " Total number of Followers the user akhil pragallapati having are : 7\n",
      "\n",
      " The list of Followers : \n",
      "['Girishsardar44', 'TelakPrakash', 'KaranSreekanth', 'MadavanSubiksha', '007UmaMaheshwar', 'SruthiSVenkata1', 'SrinivasBaddig1']\n"
     ]
    }
   ],
   "source": [
    "#----------------------------------------------\n",
    "# Your code starts here\n",
    "#   Please add comments or text cells in between to explain the general idea of each block of the code.\n",
    "#   Please feel free to add more cells below this cell if necessary\n",
    "\n",
    "tUserName = \"akhil pragallapati\" # Mention the screen name of the user \n",
    "friendsQuery = twitter_api.friends.ids(screen_name = tUserName) # fetching the ids of the friends\n",
    "print(\"\\n Total number of friends the user \" + tUserName + \" having are : \" + str(len(friendsQuery['ids'])))\n",
    "\n",
    "print(\"\\n The list of friends : \")\n",
    "\n",
    "# we loop through them to pull out more info  in blocks of 100\n",
    "\n",
    "frLi = [] # An emply list for storing the Friends\n",
    "for n in range(0, len(friendsQuery[\"ids\"]), 100):\n",
    "    ids = friendsQuery[\"ids\"][n:n+100]\n",
    "    ids_string = \",\".join(str(id) for id in ids) # creating a list for all the ids as strings\n",
    "    \n",
    "    friendsData = twitter_api.users.lookup(user_id = ids_string) # Fetching all the info of the friends using th id string\n",
    "\n",
    "    for friend in friendsData:\n",
    "        frLi = frLi + [friend[\"screen_name\"]]\n",
    "        #print(friend[\"screen_name\"]) # collecting the friends names \n",
    "print(frLi) # # collecting the friends names as list\n",
    "\n",
    "# repeating the same process for followers\n",
    "\n",
    "followersQuery = twitter_api.followers.ids(screen_name = tUserName) \n",
    "print(\"\\n Total number of Followers the user \" + tUserName + \" having are : \" + str(len(followersQuery['ids'])))\n",
    "\n",
    "print(\"\\n The list of Followers : \")\n",
    "\n",
    "foLi = [] # An emply list for storing the Followers\n",
    "for n in range(0, len(followersQuery[\"ids\"]),100):\n",
    "    ids = followersQuery[\"ids\"][n:n+100]\n",
    "\n",
    "    ids_string = \",\".join(str(id) for id in ids)\n",
    "\n",
    "    followersData = twitter_api.users.lookup(user_id = ids_string)\n",
    "\n",
    "    for followers in followersData:\n",
    "        foLi = foLi + [followers[\"screen_name\"]]\n",
    "        #print(followers[\"screen_name\"])\n",
    "print(foLi)"
   ]
  },
  {
   "cell_type": "markdown",
   "metadata": {},
   "source": [
    "* Ploting 20 out of the followers, plotting their ID numbers and screen names in a table.**\n",
    "\n"
   ]
  },
  {
   "cell_type": "code",
   "execution_count": 41,
   "metadata": {
    "id": "YI8np92oA18h"
   },
   "outputs": [
    {
     "name": "stdout",
     "output_type": "stream",
     "text": [
      "7\n",
      "+------+---------------------+----------------------+\n",
      "| S.No |     Follower Id     | Follower Screen Name |\n",
      "+------+---------------------+----------------------+\n",
      "|  1   |      171964980      |    Girishsardar44    |\n",
      "|  2   |      2928431096     |     TelakPrakash     |\n",
      "|  3   | 1238671818791108608 |    KaranSreekanth    |\n",
      "|  4   | 1239553307028279296 |   MadavanSubiksha    |\n",
      "|  5   |  838729646795444225 |   007UmaMaheshwar    |\n",
      "|  6   | 1142839327526981632 |   SruthiSVenkata1    |\n",
      "|  7   |  886818439834107904 |   SrinivasBaddig1    |\n",
      "+------+---------------------+----------------------+\n"
     ]
    }
   ],
   "source": [
    "#----------------------------------------------\n",
    "# Your code starts here\n",
    "#   Please add comments or text cells in between to explain the general idea of each block of the code.\n",
    "#   Please feel free to add more cells below this cell if necessary\n",
    "\n",
    "# Defining the header for the PrettyTable\n",
    "pt1 = PrettyTable(field_names=['S.No', 'Follower Id ', 'Follower Screen Name'])\n",
    "\n",
    "# if the followers are less than 20 needs to display less\n",
    "if len(followersQuery['ids']) < 20:\n",
    "    noOfFollowersToPrint = len(followersQuery['ids'])\n",
    "else:\n",
    "    noOfFollowersToPrint = 20\n",
    "    \n",
    "#iterating on each name to get the user's details to fill the pretty table rows\n",
    "print(noOfFollowersToPrint)\n",
    "for i in range(noOfFollowersToPrint):\n",
    "    \n",
    "    floSName = followersData[i]['screen_name']\n",
    "    floId = followersData[i]['id']\n",
    "    #print(floId,floSName) \n",
    "    pt1.add_row((i+1,floId,floSName))\n",
    "    pt1.align['Follower Id'], pt.align['Follower Screen Name'] = 'l', 'c' # Set column alignment\n",
    "print(pt1)"
   ]
  },
  {
   "cell_type": "markdown",
   "metadata": {},
   "source": [
    "** Plotting 20 out of the friends (if the user has more than 20 friends), plotting their ID numbers and screen names in a table.**"
   ]
  },
  {
   "cell_type": "code",
   "execution_count": 42,
   "metadata": {},
   "outputs": [
    {
     "name": "stdout",
     "output_type": "stream",
     "text": [
      "92\n",
      "+-------+---------------------+--------------------+\n",
      "| S. No | Friend Id           | Friend Screen Name |\n",
      "+-------+---------------------+--------------------+\n",
      "|   1   | 41533816            |     USAndIndia     |\n",
      "|   2   | 75823831            |     tarak9999      |\n",
      "|   3   | 2253142422          |        isro        |\n",
      "|   4   | 14499829            |        WHO         |\n",
      "|   5   | 14130366            |    sundarpichai    |\n",
      "|   6   | 277434037           |     RNTata2000     |\n",
      "|   7   | 1176135546          |    rajinikanth     |\n",
      "|   8   | 1239553307028279296 |  MadavanSubiksha   |\n",
      "|   9   | 1238671818791108608 |   KaranSreekanth   |\n",
      "|   10  | 171964980           |   Girishsardar44   |\n",
      "|   11  | 3261753242          |     SastraUniv     |\n",
      "|   12  | 1252937555055501312 |   SASTRA_Racing    |\n",
      "|   13  | 1063334283773767680 |     Sastratbi      |\n",
      "|   14  | 11348282            |        NASA        |\n",
      "|   15  | 50393960            |     BillGates      |\n",
      "|   16  | 34743251            |       SpaceX       |\n",
      "|   17  | 44196397            |      elonmusk      |\n",
      "|   18  | 13298072            |       Tesla        |\n",
      "|   19  | 886818439834107904  |  SrinivasBaddig1   |\n",
      "|   20  | 255488343           |    tatacapital     |\n",
      "+-------+---------------------+--------------------+\n"
     ]
    }
   ],
   "source": [
    "#----------------------------------------------\n",
    "# Your code starts here\n",
    "#   Please add comments or text cells in between to explain the general idea of each block of the code.\n",
    "#   Please feel free to add more cells below this cell if necessary\n",
    "pt2 = PrettyTable(field_names=['S. No', 'Friend Id ', 'Friend Screen Name'])\n",
    "print(len(friendsQuery['ids']))\n",
    "\n",
    "if len(friendsQuery['ids']) < 20:\n",
    "    noOfFriendsToPrint = len(friendsQuery['ids'])\n",
    "else:\n",
    "    noOfFriendsToPrint = 20\n",
    "for j in range(noOfFriendsToPrint):\n",
    "    frSName = friendsData[j]['screen_name']\n",
    "    frId = friendsData[j]['id']\n",
    "    pt2.add_row((j+1,frId,frSName))\n",
    "    pt2.align['Friend Id '], pt.align['Friend Screen Name'] = 'l', 'c' # Set column alignment\n",
    "print(pt2)\n",
    "\n"
   ]
  },
  {
   "cell_type": "markdown",
   "metadata": {
    "id": "cGOvRwzxA18h"
   },
   "source": [
    "**Computing the mutual friends within the two groups, i.e., the users who are in both friend list and follower list, plotting their ID numbers and screen names in a table.**"
   ]
  },
  {
   "cell_type": "code",
   "execution_count": 44,
   "metadata": {
    "id": "FGOM-EKTA18i"
   },
   "outputs": [
    {
     "name": "stdout",
     "output_type": "stream",
     "text": [
      "+-------+---------------------+---------------------------+\n",
      "| S. No | Mutual Friend Id    | Mutual Friend Screen Name |\n",
      "+-------+---------------------+---------------------------+\n",
      "|   1   | 838729646795444225  |      007UmaMaheshwar      |\n",
      "|   2   | 1239553307028279296 |      MadavanSubiksha      |\n",
      "|   3   | 886818439834107904  |      SrinivasBaddig1      |\n",
      "|   4   | 1142839327526981632 |      SruthiSVenkata1      |\n",
      "|   5   | 1238671818791108608 |       KaranSreekanth      |\n",
      "|   6   | 171964980           |       Girishsardar44      |\n",
      "|   7   | 2928431096          |        TelakPrakash       |\n",
      "+-------+---------------------+---------------------------+\n"
     ]
    }
   ],
   "source": [
    "#----------------------------------------------\n",
    "# Your code starts here\n",
    "#   Please add comments or text cells in between to explain the general idea of each block of the code.\n",
    "#   Please feel free to add more cells below this cell if necessary\n",
    "\n",
    "pt3 = PrettyTable(field_names=['S. No', 'Mutual Friend Id ', 'Mutual Friend Screen Name'])\n",
    "foLiSet = set(foLi)\n",
    "frLiSet = set(frLi)\n",
    "\n",
    "interFoLiSetFrLiSet = list(foLiSet & frLiSet)\n",
    "\n",
    "#print(\",\".join(interFoLiSetFrLiSet))\n",
    "v =1\n",
    "mfriendsData = twitter_api.users.lookup(screen_name = \",\".join(interFoLiSetFrLiSet))\n",
    "#print(mfriendsData)\n",
    "for k in mfriendsData:\n",
    "    mSName = k['screen_name']\n",
    "    mId = k['id']\n",
    "    pt3.add_row((v,mId,mSName))\n",
    "    v = v +1\n",
    "    pt3.align['Mutual Friend Id '], pt.align['Mutual Friend Screen Name'] = 'l', 'c' # Set column alignment\n",
    "print(pt3)"
   ]
  },
  {
   "cell_type": "markdown",
   "metadata": {
    "id": "4B53GdUzA18i"
   },
   "source": [
    "\n",
    "\n",
    "# Business question "
   ]
  },
  {
   "cell_type": "markdown",
   "metadata": {},
   "source": [
    "**Problem statement :**\n",
    "To understand the popularity of the product or a business, we need to identify how the customers are feeling about the product.\n",
    "TO improve the business model, the customer feedback is highly important. \n",
    "But without the direct feedback, if an oranisation wants to understand about its product, its very difficult.\n",
    "\n",
    "**Problem solution:** \n",
    "To solve the above issue, we can use the twitter data to understand about the feedback about a certain product.\n",
    "steps: \n",
    "1) Using the hashtag of the product which we want to analyze, we can download the tweets about that hashtag.\n",
    "Here for the example I am using the \"tesla\" hashtag to understand about the tesla organisation.\n",
    "2) Now since we have the data from the tesla , using the next results, I have fetched more tweets a total of 10000 tweets.\n",
    "3) Now Extract the \"text\" from these tweets and stire them in a list (we have received total of 175130 words).\n",
    "4) I have loaded 2 data sets (goodWords, badWords), these two datasets have nearly 1200 uniquire words each.\n",
    "5) Using python for loops and if conditions, I have created 2 different lists with negative words and positive words from the tweets collected.\n",
    "6) Using the counter function, I have counted the words frequency.\n",
    "7) Finally using the Matplotlib, I have plotted the two graps for negative and positive words.\n",
    "\n",
    "**Results:**\n",
    "As we can see from the below graph that the organisation \"tesla\" have more positive feedback with word \"good\" repeating itself the most ( nearly 400), and there are very few negative words from a total of 175130 words\n",
    "So we can say that, tesla is doing great overall in their business, if we analyze very high amounts of data with a more narrowed negative dataset , we can even identify at what area the organisation needs to be improved."
   ]
  },
  {
   "cell_type": "code",
   "execution_count": 49,
   "metadata": {
    "id": "FomaD-F0A18i"
   },
   "outputs": [
    {
     "name": "stdout",
     "output_type": "stream",
     "text": [
      "175130\n"
     ]
    }
   ],
   "source": [
    "#----------------------------------------------\n",
    "# Your code starts here\n",
    "#   Please add comments or text cells in between to explain the general idea of each block of the code.\n",
    "#   Please feel free to add more cells below this cell if necessary\n",
    "\n",
    "searchWord= \"tesla\" # Given the hashtag to be searched\n",
    "\n",
    "c = 100\n",
    "\n",
    "search_resultsT = twitter_api.search.tweets(q=searchWord, count=c) # Returns a Dictionary with 2 key-values, one is statuses \n",
    "                                                                   # and another key is search_metadata\n",
    "\n",
    "statusesT = search_resultsT['statuses'] # Gives a list of dictionaries with each dictionary contains a tweet\n",
    "\n",
    "for _ in range(100):  # Iterating for 100 times to get more results\n",
    "    try:\n",
    "        next_results = search_results['search_metadata']['next_results'] # trying to get the next results \n",
    "    except KeyError: \n",
    "        break         # breaking the loop if there is no next_results data available  \n",
    "    kwargs = dict([ kv.split('=') for kv in next_results[1:].split(\"&\") ])\n",
    "    search_resultsT = twitter_api.search.tweets(**kwargs)\n",
    "    statusesT += search_resultsT['statuses']\n",
    "\n",
    "# declaring some variables for positive word count, negative word count, neutral words\n",
    "gwc = 0\n",
    "bwc = 0\n",
    "statusText = []\n",
    "neutral = 0\n",
    "for status in statusesT:\n",
    "    \n",
    "    #print(status[\"text\"])\n",
    "    statusText = statusText + status[\"text\"].split(\" \")\n",
    "\n",
    "print(len(statusText))\n",
    "\n",
    "#conisdering 2 data sets which contains 2K good / bad words\n",
    "badWords = ['jigaboo','mound of venus','asslover','s&m','queaf','whitetrash','meatrack','ra8s','pimp','urine','whit','randy','herpes','niglet','narcotic','pudboy','rimming','boner','pornography','poop chute','israel','dong','slanteye','muffdiving','jiggabo','assassination','peepshpw','popimp','girl on','testicles','laid','molestor','peni5','tranny','barface','hell','arsehole','pissed','sixsixsix','execute','shitty ','conspiracy','hamas','cunilingus','bitcher','muslim','pee','niggled','muffindiver','cocksman','scag','aroused','niggling','fingerfucker ','nlggor','niggaz','assfuck','slant','urinate','mothafucked ','fungus','retard','gummer','venus mound','alla','spaghettinigger','piss','mickeyfinn','fuckers','jizzim','tramp','quashie','prince albert piercing','hardon','menage a trois','bukkake','shag','australian','raped','buggery','deth','weenie','lickme','reverse cowgirl','tonguetramp','cum','copulate','gun','schlong','cunn','damnit','crackpipe','buttmuncher','cameltoe','camgirl','hotpussy','cuntfucker','slave','sluts','ball licking','hentai','jackshit','dickman','doo-doo','gook','crimes','ho','bomd','shitdick','slapper','urinary','tantra','nookie','fuckedup','gubba','niggur','cybersex','dicklicker','cunillingus','hitlerism','butt','triplex','busty','dicklick','kunilingus','asian','tonguethrust','fistfucking ','assmonkey','criminal','cockknob','koon','childrens','shat','footfucker','blonde action','spitter','weapon','dive','cumm','cuntlicking ','sexy-slim','lemon party','vibrater','upskirt','jijjiboo','fuckfriend','pthc','mothafucka','sniggered','buttfuckers','nutfucker','peehole','taboo','erection','nudity','bast','lesbayn','hummer','shortfuck','cherrypopper','adult','palestinian','pussylips','nooner','how to kill','blumpkin','stiffy','piss pig','beastiality','latin','butchbabes','spunk','gross','xx','crackwhore','butt-fuckers','kraut','pooping','style doggy','lactate','fecal','rusty trombone','wrinkled starfish','spigotty','dink','clogwog','whitey','dies','radical','slaughter','bollick','sodomite','balls','nimphomania','ball gag','poof','muff diver','jail bait','beaver','asspirate','bareback','pimpjuice','ballsack','bi-sexual','torture','limey','nookey','breastman','loser','kills','lesbo','beatyourmeat','lovemaking','munt','clitoris','fornicate','wet dream','double penetration','missionary position','bugger','lovejuice','date rape','eatballs','handjob','nlgger','dixiedyke','junglebunny','sonofabitch','goddamned','deep throat','jism','assclown','shitforbrains','screwyou','ethiopian','nastyslut','gang bang','lubejob','tied up','make me come','rimjob','sexfarm','tight white','lezbe','lezbo','tribadism','butt-bang','asskiss','sadism','biteme','angie','abortion','murderer','motherfucker','sextoy','2g1c','doggy style','cunntt','cooly','ball sack','sodom','slideitin','fudge packer','fatfuck','gipp','communist','felatio ','libido','xtc','cuntfuck','niggardly','fuckface','faggot','protestant','trailertrash','headfuck','shav','dickweed','refugee','trannie','giant cock','sexhound','slut','dead','titlover','wank','moslem','krappy','black cock','idiot','tortur','erotic','donkey punch','dirty pillows','cockcowboy','sucker','cocktail','doom','hymen','vibr','terrorist','mufflikcer','phonesex','teste','pisshead','slime','brea5t','tea bagging','slutt','cumbubble','blackout','hijacking','premature','sextogo','arse','racist','jimfish','flydye','juggs','jade','wigger','niggards','jigg','dumb','devilworshipper','firing','gatorbait','murder','fastfuck','spik','nuke','bastinado','kondum','pansy','destroy','ikey','women rapping','titfucker','crime','swinger','shitola','killer','fart','booby','pimpsimp','coon','strap on','zigabo','bisexual','gangsta','teat','boobies','kafir','dp action','jugs','husky','homoerotic','twinkie','spooge','kink','sleezebag','gay','homo','slutwhore','dickless','cumfest','israeli','fuk','niggardliness','nigr','goddamit','sandnigger','dope','insest','foreskin','acrotomophilia','dumbbitch','fuckmonkey','pubiclice','cyberslimer','titfuck','cummer','kumquat','one guy one jar','fire','sexo','carruth','cocktease','trisexual','pric','rabbi','gypp','cunnilingus','dipshit','welfare','arabs','transvestite','tnt','penile','mothafuckings','peckerwood','enemy','negroid','genital','gangbanger','queef','strapon','thicklips','female squirting','flydie','crabs','christ','ejaculate','carpet muncher','lucifer','butchdyke','vatican','skumbag','horseshit','eunuch','dickforbrains','bondage','kumbullbe','crack','niggerhole','niggard','rosy palm','assranger','beat-off','bastard ','asspuppies','jiggerboo','cuntlick ','pommie','doggie style','lezz','jesuschrist','nazi','feltch','chode','pleasure chest','wetback','zipperhead','necro','goddamnmuthafucker','whiskeydick','slopy','executioner','colored','ethnic','turnon','hole','nofuckingway','mastrabator','jack off','orgies','pisses ','blow j','criminals','cockqueen','tosser','snownigger','holestuffer','dipstick','mofo','nipplering','minority','italiano','palesimian','poo','horn','rape','genitals','conservative','jebus','bullcrap','dick','cumqueen','spread legs','cancer','kaffir','mocky','suckmytit','vorarephilia','naked','shited','nigg','spermhearder','whore','african','disease','lovebone','spreadeagle','coprolagnia','humping','suicide girls','bong','pole smoker','shrimping','gin','purinapricness','sexslave','big knockers','iblowu','pissin ','skank','lotion','asshole','easyslut','mothafucker','whiz','lsd','cocksucked ','hosejob','wanker','cumjockey','eat my ass','lovegoo','whites','propaganda','sexwhore','cunt','welcher','how to murder','scum','phuked','suckoff','shithapens','drug','auto erotic','sultry women','barenaked','wetspot','sixtynine','wrapping men','buttplug','jiggy','alligatorbait','flange','shitfit','dirty','huge fat','bulldyke','orgasm','bumfuck','deposit','big breasts','sexual','japanese','suckmyass','church','goyim','bohunk','bigass','fannyfucker','gaymuthafuckinwhore','babies','girls','turd','fuck buttons','fagging','pisser','sandm','wog','escort','octopussy','tinkle','snigger','groe','vibrator','dix','swalow','chin','niggles','asslicker','molester','backseat','geez','seppo','sexually','boong','voyeur','butthole','hoser','fore','asswhore','cocaine','skanky','european','mothafuck','titlicker','buttstain','penises','spermacide','mexican','skankybitch','white power','puddboy','coondog','stripclub','mockie','american','jesus','tushy','kumbubble','milf','mormon','ontherag','henhouse','slutty','big black','dego','daterape','phukked','cuntlicker ','failed','lezbefriends','pissing','bitchy','pohm','kigger','nastywhore','bangbros','upthebutt','cohee','fistfuck','fuckingbitch','shibari','cigs','jiggaboo','japcrap','raper','jackass','orgasim ','sexed','jackoff','baby batter','toilet','tampon','uk','porn','snowballing','goldenshower','titties','towelhead','titjob','abo','molestation','fok','crapola','foursome','suicide','scrotum','cumming','niggerhead','pussie','abuse','analannie','cocksucking','breastjob','blonde on blonde action','paedophile','kumming','reestie','suckme','willie','shhit','titbitnipply','hot chick','skankwhore','fudgepacker','dragqueen','deapthroat','barelylegal','circlejerk','shinola','hookers','flatulence','scat','damn','mafia','anus','gokkun','argie','buttpirate','goregasm','fagot','fuks','redneck','jiga','cockhead','freakfuck','2 girls 1 cup','crotchjockey','dripdick','die','fuckina','orgy','phungky','beaver cleaver','sexy','darky','magicwand','screw','dominatrix','butt-fucker','neonazi','fuckpig','manpaste','molest','whiskydick','lez','darkie','rearend','niggardlinesss','trojan','smack','lapdance','brunette action','hindoo','fourtwenty','deepthroat','moles','hebe','pommy','fuckher','stringer','one cup two girls','peck','backdoorman','male squirting','shiting','clamdiver','fairy','pussylicker','slav','nigre','robber','horny','penetration','phuking','cigarette','dyefly','playboy','golden shower','cumshot','chinamen','pickaninny','diddle','fatah','bombers','suckdick','bigbastard','pube','mosshead','pornking','terror','pimper','fuckbuddy','period','catholics','pistol','g-spot','doodoo','mockey','funeral','prickhead','whop','allah','pussyeater','cocksmith','executed','barely legal','niggarding','swastika','buried','pocho','nip','weewee','whiskey','beast','phone sex','muncher','fuckhead','smackthemonkey','badfuck','harem','nigerians','bastardo','shooting','pissoff ','fistfucked ','ginzo','mattressprincess','primetime','undressing','fuckable','puss','bbw','damnation','jeez','stroking','leather restraint','yankee','piky','beastality','cocksucer','goddamn','poopchute','shitfaced','dickhead','gangbanged ','masterbate','pikey','rosy palm and her 5 sisters','doggiestyle','bitches','desire','pansies','dickbrain','sissy','felch','penis','horney','buttmunch','baptist','assassin','fingering','cock','osama','mothafucking ','republican','wetb','freefuck','rere','goatse','transexual','bunghole','assholes','butt-fuck','nig nog','snowback','sniper','gangbang','cockfight','death','mggor','skankbitch','goy','twat','masturbate','usama','babeland','dickwad','cornhole','nigra','fuckinright','blue waffle','clit','niggle','timbernigger','picaninny','whorefucker','yellowman','ass','ero','dommes','nig','lolita','grostulation','dixiedike','shitfucker','hymie','sheeney','asswipe','crash','vomit','died','femdom','cameljockey','footfuck','sonofbitch','cleveland steamer','dahmer','feltcher','bitch','fingerfuckers','buttface','evl','dammit','lovepistol','twink','shitting','blind','reefer','beaver lips','motherlovebone','panties','fucka','fatass','lugan','devil','pornflick','russkie','fight','thirdleg','hore','jerk off','negroes','moron','shaved beaver','gonzagas','drunken','blackman','asskisser','crotchrot','motherfuckin','lezzo','fondle','slopey','clusterfuck','fister','skankfuck','condom','kill','taff','shithouse','cockblock','hoes','horniest','kunt','facefucker','assmuncher','bollock','smut','stupidfuck','assmunch','prostitute','payo','poorwhitetrash','honkey','bulldike']\n",
    "\n",
    "goodWords = ['abound','abounds','abundance','abundant','accessable','accessible','acclaim','acclaimed','acclamation','accolade','accolades','accommodative','accomodative','accomplish','accomplished','accomplishment','accomplishments','accurate','accurately','achievable','achievement','achievements','achievible','acumen','adaptable','adaptive','adequate','adjustable','admirable','admirably','admiration','admire','admirer','admiring','admiringly','adorable','adore','adored','adorer','adoring','adoringly','adroit','adroitly','adulate','adulation','adulatory','advanced','advantage','advantageous','advantageously','advantages','adventuresome','adventurous','advocate','advocated','advocates','affability','affable','affably','affectation','affection','affectionate','affinity','affirm','affirmation','affirmative','affluence','affluent','afford','affordable','affordably','afordable','agile','agilely','agility','agreeable','agreeableness','agreeably','all-around','alluring','alluringly','altruistic','altruistically','amaze','amazed','amazement','amazes','amazing','amazingly','ambitious','ambitiously','ameliorate','amenable','amenity','amiability','amiabily','amiable','amicability','amicable','amicably','amity','ample','amply','amuse','amusing','amusingly','angel','angelic','apotheosis','appeal','appealing','applaud','appreciable','appreciate','appreciated','appreciates','appreciative','appreciatively','appropriate','approval','approve','ardent','ardently','ardor','articulate','aspiration','aspirations','aspire','assurance','assurances','assure','assuredly','assuring','astonish','astonished','astonishing','astonishingly','astonishment','astound','astounded','astounding','astoundingly','astutely','attentive','attraction','attractive','attractively','attune','audible','audibly','auspicious','authentic','authoritative','autonomous','available','aver','avid','avidly','award','awarded','awards','awe','awed','awesome','awesomely','awesomeness','awestruck','awsome','backbone','balanced','bargain','beauteous','beautiful','beautifullly','beautifully','beautify','beauty','beckon','beckoned','beckoning','beckons','believable','believeable','beloved','benefactor','beneficent','beneficial','beneficially','beneficiary','benefit','benefits','benevolence','benevolent','benifits','best','best-known','best-performing','best-selling','better','better-known','better-than-expected','beutifully','blameless','bless','blessing','bliss','blissful','blissfully','blithe','blockbuster','bloom','blossom','bolster','bonny','bonus','bonuses','boom','booming','boost','boundless','bountiful','brainiest','brainy','brand-new','brave','bravery','bravo','breakthrough','breakthroughs','breathlessness','breathtaking','breathtakingly','breeze','bright','brighten','brighter','brightest','brilliance','brilliances','brilliant','brilliantly','brisk','brotherly','bullish','buoyant','cajole','calm','calming','calmness','capability','capable','capably','captivate','captivating','carefree','cashback','cashbacks','catchy','celebrate','celebrated','celebration','celebratory','champ','champion','charisma','charismatic','charitable','charm','charming','charmingly','chaste','cheaper','cheapest','cheer','cheerful','cheery','cherish','cherished','cherub','chic','chivalrous','chivalry','civility','civilize','clarity','classic','classy','clean','cleaner','cleanest','cleanliness','cleanly','clear','clear-cut','cleared','clearer','clearly','clears','clever','cleverly','cohere','coherence','coherent','cohesive','colorful','comely','comfort','comfortable','comfortably','comforting','comfy','commend','commendable','commendably','commitment','commodious','compact','compactly','compassion','compassionate','compatible','competitive','complement','complementary','complemented','complements','compliant','compliment','complimentary','comprehensive','conciliate','conciliatory','concise','confidence','confident','congenial','congratulate','congratulation','congratulations','congratulatory','conscientious','considerate','consistent','consistently','constructive','consummate','contentment','continuity','contrasty','contribution','convenience','convenient','conveniently','convience','convienient','convient','convincing','convincingly','cool','coolest','cooperative','cooperatively','cornerstone','correct','correctly','cost-effective','cost-saving','counter-attack','counter-attacks','courage','courageous','courageously','courageousness','courteous','courtly','covenant','cozy','creative','credence','credible','crisp','crisper','cure','cure-all','cushy','cute','cuteness','danke','danken','daring','daringly','darling','dashing','dauntless','dawn','dazzle','dazzled','dazzling','dead-cheap','dead-on','decency','decent','decisive','decisiveness','dedicated','defeat','defeated','defeating','defeats','defender','deference','deft','deginified','delectable','delicacy','delicate','delicious','delight','delighted','delightful','delightfully','delightfulness','dependable','dependably','deservedly','deserving','desirable','desiring','desirous','destiny','detachable','devout','dexterous','dexterously','dextrous','dignified','dignify','dignity','diligence','diligent','diligently','diplomatic','dirt-cheap','distinction','distinctive','distinguished','diversified','divine','divinely','dominate','dominated','dominates','dote','dotingly','doubtless','dreamland','dumbfounded','dumbfounding','dummy-proof','durable','dynamic','eager','eagerly','eagerness','earnest','earnestly','earnestness','ease','eased','eases','easier','easiest','easiness','easing','easy','easy-to-use','easygoing','ebullience','ebullient','ebulliently','ecenomical','economical','ecstasies','ecstasy','ecstatic','ecstatically','edify','educated','effective','effectively','effectiveness','effectual','efficacious','efficient','efficiently','effortless','effortlessly','effusion','effusive','effusively','effusiveness','elan','elate','elated','elatedly','elation','electrify','elegance','elegant','elegantly','elevate','elite','eloquence','eloquent','eloquently','embolden','eminence','eminent','empathize','empathy','empower','empowerment','enchant','enchanted','enchanting','enchantingly','encourage','encouragement','encouraging','encouragingly','endear','endearing','endorse','endorsed','endorsement','endorses','endorsing','energetic','energize','energy-efficient','energy-saving','engaging','engrossing','enhance','enhanced','enhancement','enhances','enjoy','enjoyable','enjoyably','enjoyed','enjoying','enjoyment','enjoys','enlighten','enlightenment','enliven','ennoble','enough','enrapt','enrapture','enraptured','enrich','enrichment','enterprising','entertain','entertaining','entertains','enthral','enthrall','enthralled','enthuse','enthusiasm','enthusiast','enthusiastic','enthusiastically','entice','enticed','enticing','enticingly','entranced','entrancing','entrust','enviable','enviably','envious','enviously','enviousness','envy','equitable','ergonomical','err-free','erudite','ethical','eulogize','euphoria','euphoric','euphorically','evaluative','evenly','eventful','everlasting','evocative','exalt','exaltation','exalted','exaltedly','exalting','exaltingly','examplar','examplary','excallent','exceed','exceeded','exceeding','exceedingly','exceeds','excel','exceled','excelent','excellant','excelled','excellence','excellency','excellent','excellently','excels','exceptional','exceptionally','excite','excited','excitedly','excitedness','excitement','excites','exciting','excitingly','exellent','exemplar','exemplary','exhilarate','exhilarating','exhilaratingly','exhilaration','exonerate','expansive','expeditiously','expertly','exquisite','exquisitely','extol','extoll','extraordinarily','extraordinary','exuberance','exuberant','exuberantly','exult','exultant','exultation','exultingly','eye-catch','eye-catching','eyecatch','eyecatching','fabulous','fabulously','facilitate','fair','fairly','fairness','faith','faithful','faithfully','faithfulness','fame','famed','famous','famously','fancier','fancinating','fancy','fanfare','fans','fantastic','fantastically','fascinate','fascinating','fascinatingly','fascination','fashionable','fashionably','fast','fast-growing','fast-paced','faster','fastest','fastest-growing','faultless','fav','fave','favor','favorable','favored','favorite','favorited','favour','fearless','fearlessly','feasible','feasibly','feat','feature-rich','fecilitous','feisty','felicitate','felicitous','felicity','fertile','fervent','fervently','fervid','fervidly','fervor','festive','fidelity','fiery','fine','fine-looking','finely','finer','finest','firmer','first-class','first-in-class','first-rate','flashy','flatter','flattering','flatteringly','flawless','flawlessly','flexibility','flexible','flourish','flourishing','fluent','flutter','fond','fondly','fondness','foolproof','foremost','foresight','formidable','fortitude','fortuitous','fortuitously','fortunate','fortunately','fortune','fragrant','free','freed','freedom','freedoms','fresh','fresher','freshest','friendliness','friendly','frolic','frugal','fruitful','ftw','fulfillment','fun','futurestic','futuristic','gaiety','gaily','gain','gained','gainful','gainfully','gaining','gains','gallant','gallantly','galore','geekier','geeky','gem','gems','generosity','generous','generously','genial','genius','gentle','gentlest','genuine','gifted','glad','gladden','gladly','gladness','glamorous','glee','gleeful','gleefully','glimmer','glimmering','glisten','glistening','glitter','glitz','glorify','glorious','gloriously','glory','glow','glowing','glowingly','god-given','god-send','godlike','godsend','gold','golden','good','goodly','goodness','goodwill','goood','gooood','gorgeous','gorgeously','grace','graceful','gracefully','gracious','graciously','graciousness','grand','grandeur','grateful','gratefully','gratification','gratified','gratifies','gratify','gratifying','gratifyingly','gratitude','great','greatest','greatness','grin','groundbreaking','guarantee','guidance','guiltless','gumption','gush','gusto','gutsy','hail','halcyon']\n",
    "bwList = []\n",
    "gwList = []\n",
    "\n",
    "for i in statusText:\n",
    "    if (i.lower() in badWords):  \n",
    "        bwList = bwList + [i.lower()]\n",
    "        bwc = bwc +1  # Countinng the negative words\n",
    "\n",
    "    elif(i.lower() in goodWords):\n",
    "        gwc = gwc +1 # Countinng the positive words\n",
    "        gwList = gwList + [i.lower()]\n",
    "    else:\n",
    "        neutral = neutral +1 \n"
   ]
  },
  {
   "cell_type": "code",
   "execution_count": 69,
   "metadata": {},
   "outputs": [
    {
     "name": "stdout",
     "output_type": "stream",
     "text": [
      "great 101\n",
      "free 2\n",
      "enhance 1\n",
      "best 101\n",
      "gains 1\n",
      "gained 1\n",
      "amazing 1\n",
      "fans 300\n",
      "decent 100\n",
      "enjoying 100\n",
      "enough 100\n",
      "glad 100\n",
      "good 400\n",
      "available 100\n",
      "defeat 100\n",
      "excellence 100\n",
      "awesome 100\n",
      "comfortable 200\n"
     ]
    },
    {
     "data": {
      "image/png": "[encoded data removed]",
      "text/plain": [
       "<Figure size 1080x1080 with 1 Axes>"
      ]
     },
     "metadata": {
      "needs_background": "light"
     },
     "output_type": "display_data"
    },
    {
     "data": {
      "image/png": "[encoded data removed]",
      "text/plain": [
       "<Figure size 432x288 with 1 Axes>"
      ]
     },
     "metadata": {
      "needs_background": "light"
     },
     "output_type": "display_data"
    }
   ],
   "source": [
    "# Graph to display the good words\n",
    "import matplotlib.pyplot as plt\n",
    "\n",
    "b = plt.figure(figsize=(15,15)) # Declaring the figure size\n",
    "\n",
    "#print(bwc,gwc,neutral)\n",
    "\n",
    "#print(bwList)\n",
    "# Counting the positive words and negative words \n",
    "bwListC= Counter(bwList)\n",
    "gwListC = Counter(gwList)\n",
    "for k,v in gwListC.items():\n",
    "    \n",
    "    print(k,v)\n",
    "\n",
    "# plotting a histogram of the Positive words \n",
    "plt.hist(gwList, bins=(len(gwListC.values())))\n",
    "plt.title(\"Positive Words in \\\"\" + searchWord + \"\\\" tweets \", size = 20)\n",
    "plt.xlabel(\"Positive Words\",size = 15)\n",
    "plt.ylabel(\"Frequency\",size = 15)\n",
    "plt.show()\n",
    "\n",
    "# plotting a histogram of the Negative words \n",
    "\n",
    "plt.hist(bwList, bins=(len(bwListC.values())))\n",
    "plt.title(\"Negative Words in \\\"\" + searchWord + \"\\\" tweets \", size = 20)\n",
    "plt.xlabel(\"Negative Words\",size = 15)\n",
    "plt.ylabel(\"Frequency\",size = 15)\n",
    "plt.show()"
   ]
  }
 ],
 "metadata": {
  "anaconda-cloud": {},
  "colab": {
   "name": "CaseStudy1_Twitter_answer.ipynb",
   "provenance": []
  },
  "kernel_info": {
   "name": "python3"
  },
  "kernelspec": {
   "display_name": "Python 3 (ipykernel)",
   "language": "python",
   "name": "python3"
  },
  "language_info": {
   "codemirror_mode": {
    "name": "ipython",
    "version": 3
   },
   "file_extension": ".py",
   "mimetype": "text/x-python",
   "name": "python",
   "nbconvert_exporter": "python",
   "pygments_lexer": "ipython3",
   "version": "3.9.12"
  },
  "nteract": {
   "version": "0.2.0"
  }
 },
 "nbformat": 4,
 "nbformat_minor": 1
}
