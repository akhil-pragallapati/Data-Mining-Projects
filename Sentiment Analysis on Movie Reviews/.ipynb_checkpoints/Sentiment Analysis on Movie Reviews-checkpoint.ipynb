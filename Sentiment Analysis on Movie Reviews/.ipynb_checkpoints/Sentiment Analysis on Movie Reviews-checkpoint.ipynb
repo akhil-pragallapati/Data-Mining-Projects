{
 "cells": [
  {
   "cell_type": "markdown",
   "metadata": {},
   "source": [
    "# Sentiment Analysis on Movie Reviews"
   ]
  },
  {
   "cell_type": "markdown",
   "metadata": {},
   "source": [
    "**NOTE:**\n",
    "* The Dataset used here is `IBDM Dataset.csv`.\n",
    "\n",
    "**HINT:**\n",
    "* Here are some related tutorials that would be helpful:\n",
    "    * https://www.kaggle.com/competitions/sentiment-analysis-on-movie-reviews/code\n",
    "    * https://scikit-learn.org/stable/tutorial/text_analytics/working_with_text_data.html "
   ]
  },
  {
   "cell_type": "markdown",
   "metadata": {},
   "source": [
    "# Data Exploration: Exploring the Dataset\n",
    "\n"
   ]
  },
  {
   "cell_type": "code",
   "execution_count": 43,
   "metadata": {},
   "outputs": [],
   "source": [
    "import json\n",
    "import pandas as pd\n",
    "IMDB_data = 'IMDB Dataset.csv' #Importing the dataset given \n",
    "df = pd.read_csv(IMDB_data) # Storing the dataset into a dataframe"
   ]
  },
  {
   "cell_type": "code",
   "execution_count": 44,
   "metadata": {},
   "outputs": [
    {
     "data": {
      "text/html": [
       "<div>\n",
       "<style scoped>\n",
       "    .dataframe tbody tr th:only-of-type {\n",
       "        vertical-align: middle;\n",
       "    }\n",
       "\n",
       "    .dataframe tbody tr th {\n",
       "        vertical-align: top;\n",
       "    }\n",
       "\n",
       "    .dataframe thead th {\n",
       "        text-align: right;\n",
       "    }\n",
       "</style>\n",
       "<table border=\"1\" class=\"dataframe\">\n",
       "  <thead>\n",
       "    <tr style=\"text-align: right;\">\n",
       "      <th></th>\n",
       "      <th>review</th>\n",
       "      <th>sentiment</th>\n",
       "    </tr>\n",
       "  </thead>\n",
       "  <tbody>\n",
       "    <tr>\n",
       "      <th>count</th>\n",
       "      <td>50000</td>\n",
       "      <td>50000</td>\n",
       "    </tr>\n",
       "    <tr>\n",
       "      <th>unique</th>\n",
       "      <td>49582</td>\n",
       "      <td>2</td>\n",
       "    </tr>\n",
       "    <tr>\n",
       "      <th>top</th>\n",
       "      <td>Loved today's show!!! It was a variety and not...</td>\n",
       "      <td>positive</td>\n",
       "    </tr>\n",
       "    <tr>\n",
       "      <th>freq</th>\n",
       "      <td>5</td>\n",
       "      <td>25000</td>\n",
       "    </tr>\n",
       "  </tbody>\n",
       "</table>\n",
       "</div>"
      ],
      "text/plain": [
       "                                                   review sentiment\n",
       "count                                               50000     50000\n",
       "unique                                              49582         2\n",
       "top     Loved today's show!!! It was a variety and not...  positive\n",
       "freq                                                    5     25000"
      ]
     },
     "execution_count": 44,
     "metadata": {},
     "output_type": "execute_result"
    }
   ],
   "source": [
    "df.describe()"
   ]
  },
  {
   "cell_type": "code",
   "execution_count": 48,
   "metadata": {},
   "outputs": [
    {
     "name": "stdout",
     "output_type": "stream",
     "text": [
      "+------+------+--------+\n",
      "| S.No | Word | count  |\n",
      "+------+------+--------+\n",
      "|  1   | the  | 568673 |\n",
      "|  2   |  a   | 306941 |\n",
      "|  3   | and  | 301895 |\n",
      "|  4   |  of  | 283621 |\n",
      "|  5   |  to  | 261846 |\n",
      "|  6   |  is  | 203050 |\n",
      "|  7   |  in  | 169972 |\n",
      "|  8   | that | 126808 |\n",
      "|  9   |  I   | 123533 |\n",
      "|  10  | this | 113461 |\n",
      "+------+------+--------+\n"
     ]
    }
   ],
   "source": [
    "# Displaying the top 10 most frequent word in the dataset\n",
    "\n",
    "from collections import Counter\n",
    "from prettytable import PrettyTable\n",
    "\n",
    "\n",
    "c = \"\"\n",
    "for j in df['review']:\n",
    "    if j != None:\n",
    "        c = c + j\n",
    "review = c.split()\n",
    "\n",
    "counts = Counter(review)\n",
    "a = list(counts.most_common(10))\n",
    "\n",
    "xa = PrettyTable()\n",
    "\n",
    "xa.field_names = [\"S.No\",\"Word\", \"count\"]\n",
    "\n",
    "\n",
    "for i in range(10):\n",
    "    \n",
    "    xa.add_row([i+1,a[i][0], a[i][1]])\n",
    "print(xa)"
   ]
  },
  {
   "cell_type": "code",
   "execution_count": 50,
   "metadata": {},
   "outputs": [
    {
     "name": "stdout",
     "output_type": "stream",
     "text": [
      "Average number of words per each review is :  231.15694\n"
     ]
    }
   ],
   "source": [
    "# Displaying the average number of words for each review\n",
    "\n",
    "from statistics import mean\n",
    "su = 0\n",
    "for i in df['review']:\n",
    "    \n",
    "    a = len(i.split())\n",
    "    su = su + a\n",
    "    \n",
    "print(\"Average number of words per each review is : \",(su/50000))"
   ]
  },
  {
   "cell_type": "markdown",
   "metadata": {},
   "source": [
    "# Data Preproccessing"
   ]
  },
  {
   "cell_type": "markdown",
   "metadata": {},
   "source": [
    "Here are some common preproccessing steps, feel free to add more preproccessing steps if needed: \n",
    "1. check missing values. \n",
    "2. remove noise and special characters, such as \"\\[[^]]*\\]\", etc.\n",
    "3. transform all words to lower case, \n",
    "4. word tokenization  \n",
    "5. stop words removing and stemming,\n",
    "6. divide the dataset into train set (75%) and test set (25%) with random sampling\n",
    "\n",
    " ......\n",
    "\n",
    "**Hint:**\n",
    "* You may need TfidVectorizer class to convert a collection of raw documents to a matrix of TF-IDF features: https://scikit-learn.org/stable/modules/generated/sklearn.feature_extraction.text.TfidfVectorizer.html, \n",
    "* You are also welcome to use the Python Natural Language Processing Toolkit (www.nltk.org).\n",
    " \n"
   ]
  },
  {
   "cell_type": "code",
   "execution_count": 14,
   "metadata": {},
   "outputs": [
    {
     "name": "stdout",
     "output_type": "stream",
     "text": [
      "the values mising are:\n",
      " review       0\n",
      "sentiment    0\n",
      "dtype: int64\n",
      "Total Number of rows in the given dataset:  50000\n",
      "Total Number of rows after the duplicate is removed :  49582\n"
     ]
    }
   ],
   "source": [
    "# Your code starts here\n",
    "#   Please add comments or text cells in between to explain the general idea of each block of the code.\n",
    "#   Please feel free to add more cells below this cell if necessary\n",
    "\n",
    "# Checking the missing values and removing the duplicate rows\n",
    "\n",
    "import pandas as pd\n",
    "import re\n",
    "from nltk.corpus import stopwords\n",
    "import string\n",
    "\n",
    "from sklearn.model_selection import train_test_split\n",
    "import nltk\n",
    "\n",
    "\n",
    "from nltk.stem import SnowballStemmer\n",
    "from sklearn.feature_extraction.text import TfidfVectorizer\n",
    "\n",
    "import warnings\n",
    "warnings.filterwarnings('ignore')\n",
    "\n",
    "\n",
    "print(\"the values mising are:\\n\", df.isnull().sum()) # Checking for  the missing values\n",
    "\n",
    "\n",
    "print(\"Total Number of rows in the given dataset: \", len(df))\n",
    "\n",
    "df['review'] = df['review'].drop_duplicates() # Removing the duplicates from 'review' column\n",
    "\n",
    "\n",
    "df = df.dropna()\n",
    "print(\"Total Number of rows after the duplicate is removed : \", len(df))\n",
    "\n"
   ]
  },
  {
   "cell_type": "code",
   "execution_count": 16,
   "metadata": {},
   "outputs": [
    {
     "name": "stdout",
     "output_type": "stream",
     "text": [
      " The special characters are removed\n"
     ]
    },
    {
     "data": {
      "text/html": [
       "<div>\n",
       "<style scoped>\n",
       "    .dataframe tbody tr th:only-of-type {\n",
       "        vertical-align: middle;\n",
       "    }\n",
       "\n",
       "    .dataframe tbody tr th {\n",
       "        vertical-align: top;\n",
       "    }\n",
       "\n",
       "    .dataframe thead th {\n",
       "        text-align: right;\n",
       "    }\n",
       "</style>\n",
       "<table border=\"1\" class=\"dataframe\">\n",
       "  <thead>\n",
       "    <tr style=\"text-align: right;\">\n",
       "      <th></th>\n",
       "      <th>review</th>\n",
       "      <th>sentiment</th>\n",
       "    </tr>\n",
       "  </thead>\n",
       "  <tbody>\n",
       "    <tr>\n",
       "      <th>0</th>\n",
       "      <td>One of the other reviewers has mentioned that ...</td>\n",
       "      <td>positive</td>\n",
       "    </tr>\n",
       "    <tr>\n",
       "      <th>1</th>\n",
       "      <td>A wonderful little production br br The filmin...</td>\n",
       "      <td>positive</td>\n",
       "    </tr>\n",
       "    <tr>\n",
       "      <th>2</th>\n",
       "      <td>I thought this was a wonderful way to spend ti...</td>\n",
       "      <td>positive</td>\n",
       "    </tr>\n",
       "    <tr>\n",
       "      <th>3</th>\n",
       "      <td>Basically theres a family where a little boy t...</td>\n",
       "      <td>negative</td>\n",
       "    </tr>\n",
       "    <tr>\n",
       "      <th>4</th>\n",
       "      <td>Petter Matteis Love in the Time of Money is a ...</td>\n",
       "      <td>positive</td>\n",
       "    </tr>\n",
       "  </tbody>\n",
       "</table>\n",
       "</div>"
      ],
      "text/plain": [
       "                                              review sentiment\n",
       "0  One of the other reviewers has mentioned that ...  positive\n",
       "1  A wonderful little production br br The filmin...  positive\n",
       "2  I thought this was a wonderful way to spend ti...  positive\n",
       "3  Basically theres a family where a little boy t...  negative\n",
       "4  Petter Matteis Love in the Time of Money is a ...  positive"
      ]
     },
     "execution_count": 16,
     "metadata": {},
     "output_type": "execute_result"
    }
   ],
   "source": [
    "\n",
    "# Removing the special characters using a function\n",
    "\n",
    "def remove_special_chars(text):  # This functoin removes the special characters and noise in the given dataframe \n",
    "    text = re.sub(r'\\[[^]]*\\]', '', text)  # Removeing text within square brackets\n",
    "    text = re.sub(r'\\([^)]*\\)', '', text)  \n",
    "    text = re.sub(r'\\w*\\d\\w*', '', text)   \n",
    "    text = re.sub(r'\\n', ' ', text)       \n",
    "    text = re.sub(r'\\r', ' ', text)        \n",
    "    text = re.sub(r'\\t', ' ', text)        \n",
    "    text = re.sub(r'\\s+', ' ', text)       \n",
    "    text = re.sub(r'[^\\w\\s]', '', text)    # Remove special characters\n",
    "    return text.strip()\n",
    "\n",
    "\n",
    "df['review'] = df['review'].apply(remove_special_chars) # calling the function defined above to remove the noise\n",
    "\n",
    "print(\" The special characters are removed\")\n",
    "df.head()\n"
   ]
  },
  {
   "cell_type": "code",
   "execution_count": 17,
   "metadata": {},
   "outputs": [
    {
     "data": {
      "text/html": [
       "<div>\n",
       "<style scoped>\n",
       "    .dataframe tbody tr th:only-of-type {\n",
       "        vertical-align: middle;\n",
       "    }\n",
       "\n",
       "    .dataframe tbody tr th {\n",
       "        vertical-align: top;\n",
       "    }\n",
       "\n",
       "    .dataframe thead th {\n",
       "        text-align: right;\n",
       "    }\n",
       "</style>\n",
       "<table border=\"1\" class=\"dataframe\">\n",
       "  <thead>\n",
       "    <tr style=\"text-align: right;\">\n",
       "      <th></th>\n",
       "      <th>review</th>\n",
       "      <th>sentiment</th>\n",
       "    </tr>\n",
       "  </thead>\n",
       "  <tbody>\n",
       "    <tr>\n",
       "      <th>0</th>\n",
       "      <td>one of the other reviewers has mentioned that ...</td>\n",
       "      <td>positive</td>\n",
       "    </tr>\n",
       "    <tr>\n",
       "      <th>1</th>\n",
       "      <td>a wonderful little production br br the filmin...</td>\n",
       "      <td>positive</td>\n",
       "    </tr>\n",
       "    <tr>\n",
       "      <th>2</th>\n",
       "      <td>i thought this was a wonderful way to spend ti...</td>\n",
       "      <td>positive</td>\n",
       "    </tr>\n",
       "    <tr>\n",
       "      <th>3</th>\n",
       "      <td>basically theres a family where a little boy t...</td>\n",
       "      <td>negative</td>\n",
       "    </tr>\n",
       "    <tr>\n",
       "      <th>4</th>\n",
       "      <td>petter matteis love in the time of money is a ...</td>\n",
       "      <td>positive</td>\n",
       "    </tr>\n",
       "  </tbody>\n",
       "</table>\n",
       "</div>"
      ],
      "text/plain": [
       "                                              review sentiment\n",
       "0  one of the other reviewers has mentioned that ...  positive\n",
       "1  a wonderful little production br br the filmin...  positive\n",
       "2  i thought this was a wonderful way to spend ti...  positive\n",
       "3  basically theres a family where a little boy t...  negative\n",
       "4  petter matteis love in the time of money is a ...  positive"
      ]
     },
     "execution_count": 17,
     "metadata": {},
     "output_type": "execute_result"
    }
   ],
   "source": [
    "# Lower case conversion\n",
    "\n",
    "df['review'] = df['review'].str.lower() # Trasnforming all the words to lower case\n",
    "\n",
    "df.head()"
   ]
  },
  {
   "cell_type": "code",
   "execution_count": 19,
   "metadata": {},
   "outputs": [
    {
     "name": "stderr",
     "output_type": "stream",
     "text": [
      "[nltk_data] Downloading package punkt to\n",
      "[nltk_data]     C:\\Users\\SUNYloaner\\AppData\\Roaming\\nltk_data...\n",
      "[nltk_data]   Package punkt is already up-to-date!\n"
     ]
    },
    {
     "data": {
      "text/html": [
       "<div>\n",
       "<style scoped>\n",
       "    .dataframe tbody tr th:only-of-type {\n",
       "        vertical-align: middle;\n",
       "    }\n",
       "\n",
       "    .dataframe tbody tr th {\n",
       "        vertical-align: top;\n",
       "    }\n",
       "\n",
       "    .dataframe thead th {\n",
       "        text-align: right;\n",
       "    }\n",
       "</style>\n",
       "<table border=\"1\" class=\"dataframe\">\n",
       "  <thead>\n",
       "    <tr style=\"text-align: right;\">\n",
       "      <th></th>\n",
       "      <th>review</th>\n",
       "      <th>sentiment</th>\n",
       "    </tr>\n",
       "  </thead>\n",
       "  <tbody>\n",
       "    <tr>\n",
       "      <th>0</th>\n",
       "      <td>[one, of, the, other, reviewers, has, mentione...</td>\n",
       "      <td>positive</td>\n",
       "    </tr>\n",
       "    <tr>\n",
       "      <th>1</th>\n",
       "      <td>[a, wonderful, little, production, br, br, the...</td>\n",
       "      <td>positive</td>\n",
       "    </tr>\n",
       "    <tr>\n",
       "      <th>2</th>\n",
       "      <td>[i, thought, this, was, a, wonderful, way, to,...</td>\n",
       "      <td>positive</td>\n",
       "    </tr>\n",
       "    <tr>\n",
       "      <th>3</th>\n",
       "      <td>[basically, theres, a, family, where, a, littl...</td>\n",
       "      <td>negative</td>\n",
       "    </tr>\n",
       "    <tr>\n",
       "      <th>4</th>\n",
       "      <td>[petter, matteis, love, in, the, time, of, mon...</td>\n",
       "      <td>positive</td>\n",
       "    </tr>\n",
       "  </tbody>\n",
       "</table>\n",
       "</div>"
      ],
      "text/plain": [
       "                                              review sentiment\n",
       "0  [one, of, the, other, reviewers, has, mentione...  positive\n",
       "1  [a, wonderful, little, production, br, br, the...  positive\n",
       "2  [i, thought, this, was, a, wonderful, way, to,...  positive\n",
       "3  [basically, theres, a, family, where, a, littl...  negative\n",
       "4  [petter, matteis, love, in, the, time, of, mon...  positive"
      ]
     },
     "execution_count": 19,
     "metadata": {},
     "output_type": "execute_result"
    }
   ],
   "source": [
    "# Word Tokenization\n",
    "    \n",
    "nltk.download('punkt') # Dowloading the toolkit for word tokenization\n",
    "df['review'] = df['review'].apply(nltk.word_tokenize) # performing the Word tokenization operation\n",
    "\n",
    "df.head()"
   ]
  },
  {
   "cell_type": "code",
   "execution_count": 20,
   "metadata": {},
   "outputs": [
    {
     "name": "stderr",
     "output_type": "stream",
     "text": [
      "[nltk_data] Downloading package stopwords to\n",
      "[nltk_data]     C:\\Users\\SUNYloaner\\AppData\\Roaming\\nltk_data...\n",
      "[nltk_data]   Package stopwords is already up-to-date!\n"
     ]
    },
    {
     "data": {
      "text/html": [
       "<div>\n",
       "<style scoped>\n",
       "    .dataframe tbody tr th:only-of-type {\n",
       "        vertical-align: middle;\n",
       "    }\n",
       "\n",
       "    .dataframe tbody tr th {\n",
       "        vertical-align: top;\n",
       "    }\n",
       "\n",
       "    .dataframe thead th {\n",
       "        text-align: right;\n",
       "    }\n",
       "</style>\n",
       "<table border=\"1\" class=\"dataframe\">\n",
       "  <thead>\n",
       "    <tr style=\"text-align: right;\">\n",
       "      <th></th>\n",
       "      <th>review</th>\n",
       "      <th>sentiment</th>\n",
       "    </tr>\n",
       "  </thead>\n",
       "  <tbody>\n",
       "    <tr>\n",
       "      <th>0</th>\n",
       "      <td>[one, reviewers, mentioned, watching, oz, epis...</td>\n",
       "      <td>positive</td>\n",
       "    </tr>\n",
       "    <tr>\n",
       "      <th>1</th>\n",
       "      <td>[wonderful, little, production, br, br, filmin...</td>\n",
       "      <td>positive</td>\n",
       "    </tr>\n",
       "    <tr>\n",
       "      <th>2</th>\n",
       "      <td>[thought, wonderful, way, spend, time, hot, su...</td>\n",
       "      <td>positive</td>\n",
       "    </tr>\n",
       "    <tr>\n",
       "      <th>3</th>\n",
       "      <td>[basically, theres, family, little, boy, think...</td>\n",
       "      <td>negative</td>\n",
       "    </tr>\n",
       "    <tr>\n",
       "      <th>4</th>\n",
       "      <td>[petter, matteis, love, time, money, visually,...</td>\n",
       "      <td>positive</td>\n",
       "    </tr>\n",
       "  </tbody>\n",
       "</table>\n",
       "</div>"
      ],
      "text/plain": [
       "                                              review sentiment\n",
       "0  [one, reviewers, mentioned, watching, oz, epis...  positive\n",
       "1  [wonderful, little, production, br, br, filmin...  positive\n",
       "2  [thought, wonderful, way, spend, time, hot, su...  positive\n",
       "3  [basically, theres, family, little, boy, think...  negative\n",
       "4  [petter, matteis, love, time, money, visually,...  positive"
      ]
     },
     "execution_count": 20,
     "metadata": {},
     "output_type": "execute_result"
    }
   ],
   "source": [
    "# Stop words removal\n",
    " \n",
    "nltk.download('stopwords') # Dowloaoding the toolkit for the stopwords\n",
    "stop_words = stopwords.words('english') # defining the stop words language as english\n",
    "df['review'] = df['review'].apply(lambda x: [word for word in x if word not in stop_words]) # removing the stop words\n",
    "\n",
    "df.head()"
   ]
  },
  {
   "cell_type": "code",
   "execution_count": 21,
   "metadata": {},
   "outputs": [
    {
     "data": {
      "text/html": [
       "<div>\n",
       "<style scoped>\n",
       "    .dataframe tbody tr th:only-of-type {\n",
       "        vertical-align: middle;\n",
       "    }\n",
       "\n",
       "    .dataframe tbody tr th {\n",
       "        vertical-align: top;\n",
       "    }\n",
       "\n",
       "    .dataframe thead th {\n",
       "        text-align: right;\n",
       "    }\n",
       "</style>\n",
       "<table border=\"1\" class=\"dataframe\">\n",
       "  <thead>\n",
       "    <tr style=\"text-align: right;\">\n",
       "      <th></th>\n",
       "      <th>review</th>\n",
       "      <th>sentiment</th>\n",
       "    </tr>\n",
       "  </thead>\n",
       "  <tbody>\n",
       "    <tr>\n",
       "      <th>0</th>\n",
       "      <td>[one, review, mention, watch, oz, episod, youl...</td>\n",
       "      <td>positive</td>\n",
       "    </tr>\n",
       "    <tr>\n",
       "      <th>1</th>\n",
       "      <td>[wonder, littl, product, br, br, film, techniq...</td>\n",
       "      <td>positive</td>\n",
       "    </tr>\n",
       "    <tr>\n",
       "      <th>2</th>\n",
       "      <td>[thought, wonder, way, spend, time, hot, summe...</td>\n",
       "      <td>positive</td>\n",
       "    </tr>\n",
       "    <tr>\n",
       "      <th>3</th>\n",
       "      <td>[basic, there, famili, littl, boy, think, ther...</td>\n",
       "      <td>negative</td>\n",
       "    </tr>\n",
       "    <tr>\n",
       "      <th>4</th>\n",
       "      <td>[petter, mattei, love, time, money, visual, st...</td>\n",
       "      <td>positive</td>\n",
       "    </tr>\n",
       "  </tbody>\n",
       "</table>\n",
       "</div>"
      ],
      "text/plain": [
       "                                              review sentiment\n",
       "0  [one, review, mention, watch, oz, episod, youl...  positive\n",
       "1  [wonder, littl, product, br, br, film, techniq...  positive\n",
       "2  [thought, wonder, way, spend, time, hot, summe...  positive\n",
       "3  [basic, there, famili, littl, boy, think, ther...  negative\n",
       "4  [petter, mattei, love, time, money, visual, st...  positive"
      ]
     },
     "execution_count": 21,
     "metadata": {},
     "output_type": "execute_result"
    }
   ],
   "source": [
    "# Stemmign the given dataset \n",
    "\n",
    "stemmer = SnowballStemmer('english') # defining the stemming object for the engilsh language\n",
    "df['review'] = df['review'].apply(lambda x: [stemmer.stem(word) for word in x]) #performingh the  Stemming \n",
    "\n",
    "df.head()"
   ]
  },
  {
   "cell_type": "code",
   "execution_count": 22,
   "metadata": {},
   "outputs": [
    {
     "data": {
      "text/html": [
       "<div>\n",
       "<style scoped>\n",
       "    .dataframe tbody tr th:only-of-type {\n",
       "        vertical-align: middle;\n",
       "    }\n",
       "\n",
       "    .dataframe tbody tr th {\n",
       "        vertical-align: top;\n",
       "    }\n",
       "\n",
       "    .dataframe thead th {\n",
       "        text-align: right;\n",
       "    }\n",
       "</style>\n",
       "<table border=\"1\" class=\"dataframe\">\n",
       "  <thead>\n",
       "    <tr style=\"text-align: right;\">\n",
       "      <th></th>\n",
       "      <th>review</th>\n",
       "      <th>sentiment</th>\n",
       "    </tr>\n",
       "  </thead>\n",
       "  <tbody>\n",
       "    <tr>\n",
       "      <th>0</th>\n",
       "      <td>one review mention watch oz episod youll hook ...</td>\n",
       "      <td>positive</td>\n",
       "    </tr>\n",
       "    <tr>\n",
       "      <th>1</th>\n",
       "      <td>wonder littl product br br film techniqu unass...</td>\n",
       "      <td>positive</td>\n",
       "    </tr>\n",
       "    <tr>\n",
       "      <th>2</th>\n",
       "      <td>thought wonder way spend time hot summer weeke...</td>\n",
       "      <td>positive</td>\n",
       "    </tr>\n",
       "    <tr>\n",
       "      <th>3</th>\n",
       "      <td>basic there famili littl boy think there zombi...</td>\n",
       "      <td>negative</td>\n",
       "    </tr>\n",
       "    <tr>\n",
       "      <th>4</th>\n",
       "      <td>petter mattei love time money visual stun film...</td>\n",
       "      <td>positive</td>\n",
       "    </tr>\n",
       "  </tbody>\n",
       "</table>\n",
       "</div>"
      ],
      "text/plain": [
       "                                              review sentiment\n",
       "0  one review mention watch oz episod youll hook ...  positive\n",
       "1  wonder littl product br br film techniqu unass...  positive\n",
       "2  thought wonder way spend time hot summer weeke...  positive\n",
       "3  basic there famili littl boy think there zombi...  negative\n",
       "4  petter mattei love time money visual stun film...  positive"
      ]
     },
     "execution_count": 22,
     "metadata": {},
     "output_type": "execute_result"
    }
   ],
   "source": [
    "\n",
    "df['review'] = df['review'].apply(lambda x: ' '.join(x)) # converting the list to string and appending to the daatframe\n",
    "df.head()"
   ]
  },
  {
   "cell_type": "code",
   "execution_count": 23,
   "metadata": {},
   "outputs": [
    {
     "name": "stdout",
     "output_type": "stream",
     "text": [
      " \n",
      " The value of the X_train is:  37186\n",
      " \n",
      " The value of the X_test is:  12396\n",
      " \n",
      " The value of the y_train is:  37186\n",
      " \n",
      " The value of the y_test is:  12396\n"
     ]
    }
   ],
   "source": [
    "\n",
    "# Divide the dataset into train and test sets\n",
    "X_train, X_test, y_train, y_test = train_test_split(df['review'], df['sentiment'], test_size=0.25, random_state=42)\n",
    "\n",
    "print(\" \\n The value of the X_train is: \",len(X_train))\n",
    "print(\" \\n The value of the X_test is: \",len(X_test))\n",
    "print(\" \\n The value of the y_train is: \",len(y_train))\n",
    "print(\" \\n The value of the y_test is: \",len(y_test))"
   ]
  },
  {
   "cell_type": "code",
   "execution_count": 25,
   "metadata": {},
   "outputs": [
    {
     "name": "stdout",
     "output_type": "stream",
     "text": [
      " \n",
      " SHape of the X_train after the TF-IDF:  (37186, 107494)\n",
      " \n",
      " SHape of the X_test after the TF-IDF:  (12396, 107494)\n"
     ]
    }
   ],
   "source": [
    "\n",
    "# Use TF-IDF to transform the text data into numerical features\n",
    "vectorizer = TfidfVectorizer()\n",
    "X_train_transformed = vectorizer.fit_transform(X_train) # using the TF-IDF object to transform the training review data\n",
    "X_test_transformed = vectorizer.transform(X_test) # using the TF-IDF object to transform the testing review data\n",
    "\n",
    "print(\" \\n SHape of the X_train after the TF-IDF: \",X_train_transformed.shape)\n",
    "print(\" \\n SHape of the X_test after the TF-IDF: \",X_test_transformed.shape)"
   ]
  },
  {
   "cell_type": "markdown",
   "metadata": {},
   "source": [
    "# Data Modelling\n",
    "\n",
    "* Using the following models to classify the data:\n",
    "    * Logistic Regression\n",
    "    * LinearSVC\n",
    "    * KNeighborsClassifier\n",
    "    * Fully-connected layers, please try different number of hidden layers, different values of \"hidden_layer_sizes\" and \"activation\".\n",
    "    * CNN (please use different number of convolutional layers combined with different number of fully-connected layers, and compare the results).\n"
   ]
  },
  {
   "cell_type": "code",
   "execution_count": 26,
   "metadata": {},
   "outputs": [],
   "source": [
    "# Your code starts here\n",
    "#   Please add comments or text cells in between to explain the general idea of each block of the code.\n",
    "#   Please feel free to add more cells below this cell if necessary\n",
    "\n",
    "import pandas as pd\n",
    "from sklearn.feature_extraction.text import TfidfVectorizer\n",
    "from sklearn.model_selection import train_test_split\n",
    "from sklearn.svm import LinearSVC\n",
    "from sklearn.metrics import accuracy_score\n",
    "\n",
    "\n",
    "df['sentiment'] = df['sentiment'].apply(lambda x: 1 if x == 'positive' else 0) # Converting sentiment coloum into numberical \n",
    "                                                                               # 0 for negative and  for positive\n",
    "\n",
    "# Storing the transformed x values into the X-train and X-test variables\n",
    "\n",
    "X_train = X_train_transformed\n",
    "X_test = X_test_transformed\n",
    "\n"
   ]
  },
  {
   "cell_type": "code",
   "execution_count": 29,
   "metadata": {},
   "outputs": [
    {
     "name": "stdout",
     "output_type": "stream",
     "text": [
      "Logistic Regression accuracy: 0.8860922878347854\n"
     ]
    }
   ],
   "source": [
    "# logistic regression model\n",
    "\n",
    "from sklearn.linear_model import LogisticRegression\n",
    "\n",
    "\n",
    "\n",
    "lr_model = LogisticRegression()  # Using the logistic regression model \n",
    "lr_model.fit(X_train, y_train) # Trainign the model with training data\n",
    "lr_pred = lr_model.predict(X_test) # Applying the model on the testing data\n",
    "lr_acc = accuracy_score(y_test, lr_pred) # Calculating the accuracy score\n",
    "\n",
    "print(\"Logistic Regression accuracy:\", lr_acc)\n",
    "\n",
    "\n"
   ]
  },
  {
   "cell_type": "code",
   "execution_count": 30,
   "metadata": {
    "scrolled": true
   },
   "outputs": [
    {
     "name": "stdout",
     "output_type": "stream",
     "text": [
      "Linear SVC Accuracy: 0.8861729590190384\n"
     ]
    }
   ],
   "source": [
    "# Linear SVC Model\n",
    "\n",
    "\n",
    "clf = LinearSVC() # Using the SVC  model\n",
    "clf.fit(X_train, y_train) # Trainign the model with training data\n",
    "\n",
    "y_pred = clf.predict(X_test) # Applying the model on the testing data\n",
    "svc_acc = accuracy_score(y_test, y_pred) # Calculating the accuracy score\n",
    "\n",
    "print('Linear SVC Accuracy:', svc_acc)\n"
   ]
  },
  {
   "cell_type": "code",
   "execution_count": 35,
   "metadata": {},
   "outputs": [],
   "source": [
    "# KNN Model\n",
    "\n",
    "from sklearn.neighbors import KNeighborsClassifier\n",
    "def knn(k):\n",
    "\n",
    "    knn_model = KNeighborsClassifier(n_neighbors=k) # Using the KNN  model with specific k value\n",
    "    knn_model.fit(X_train, y_train) # Trainign the model with training data\n",
    "    knn_pred = knn_model.predict(X_test) # Applying the model on the testing data\n",
    "    knn_acc = accuracy_score(y_test, knn_pred)  # Calculating the accuracy score\n",
    "    \n",
    "    return knn_acc\n"
   ]
  },
  {
   "cell_type": "code",
   "execution_count": 36,
   "metadata": {},
   "outputs": [
    {
     "name": "stderr",
     "output_type": "stream",
     "text": [
      "No artists with labels found to put in legend.  Note that artists whose label start with an underscore are ignored when legend() is called with no argument.\n"
     ]
    },
    {
     "data": {
      "image/png": "[encoded data removed]",
      "text/plain": [
       "<Figure size 2500x1000 with 1 Axes>"
      ]
     },
     "metadata": {},
     "output_type": "display_data"
    }
   ],
   "source": [
    "# Trying to find the best possible k vlaue using differnt trial and error method\n",
    "\n",
    "mknn = []\n",
    "kvalues= [5,10,16,19,25,30,41,56,77,89,100,150, 170, 200, 250]\n",
    "for i in kvalues:\n",
    "    ab = knn(i)\n",
    "    mknn = mknn + [ab]\n",
    "#print(mknn)\n"
   ]
  },
  {
   "cell_type": "code",
   "execution_count": 38,
   "metadata": {},
   "outputs": [
    {
     "name": "stderr",
     "output_type": "stream",
     "text": [
      "No artists with labels found to put in legend.  Note that artists whose label start with an underscore are ignored when legend() is called with no argument.\n"
     ]
    },
    {
     "name": "stdout",
     "output_type": "stream",
     "text": [
      "[0.7688770571151985, 0.7830751855437238, 0.787431429493385, 0.7890448531784446, 0.7919490158115521, 0.7943691513391417, 0.7993707647628268, 0.8020329138431752, 0.8024362697644402, 0.8054211035818006, 0.8051790900290416, 0.8071151984511132, 0.8061471442400775, 0.8064698289770894, 0.8051790900290416]\n"
     ]
    },
    {
     "data": {
      "image/png": "[encoded data removed]",
      "text/plain": [
       "<Figure size 2500x1000 with 1 Axes>"
      ]
     },
     "metadata": {},
     "output_type": "display_data"
    }
   ],
   "source": [
    "#print(mknn)\n",
    "import matplotlib.pyplot as plt\n",
    "plt.figure(figsize=(25,10))\n",
    "plt.plot(kvalues, mknn,color = 'red')\n",
    "\n",
    "plt.title(\"Accuracy analysis of KNN based on K values \",fontdict={'fontsize': 20})\n",
    "plt.xlabel('K Values',fontdict={'fontsize': 15})\n",
    "plt.ylabel('Accuracy Values',fontdict={'fontsize': 15})\n",
    "plt.legend()\n",
    "plt.show()"
   ]
  },
  {
   "cell_type": "code",
   "execution_count": 40,
   "metadata": {},
   "outputs": [
    {
     "name": "stdout",
     "output_type": "stream",
     "text": [
      " KNN accuracy with best K value from above  0.8054211035818006\n"
     ]
    }
   ],
   "source": [
    "knn_acc = knn(89)\n",
    "print(\" KNN accuracy with best K value from above \", knn_acc)"
   ]
  },
  {
   "cell_type": "code",
   "execution_count": 52,
   "metadata": {},
   "outputs": [
    {
     "name": "stdout",
     "output_type": "stream",
     "text": [
      "MLPClassifier accuracy: 0.8771377863827041\n"
     ]
    }
   ],
   "source": [
    "# MLPClassifier\n",
    "\n",
    "from sklearn.neural_network import MLPClassifier\n",
    "\n",
    "mlp_model = MLPClassifier(hidden_layer_sizes=(100,), activation='relu')  # Using the SVC  model\n",
    "mlp_model.fit(X_train, y_train)   # Trainign the model with training data\n",
    "\n",
    "mlp_pred = mlp_model.predict(X_test) # Applying the model on the testing data\n",
    "mlp_acc = accuracy_score(y_test, mlp_pred) # Calculating the accuracy score\n",
    "\n",
    "print(\"MLPClassifier accuracy:\", mlp_acc)"
   ]
  },
  {
   "cell_type": "code",
   "execution_count": null,
   "metadata": {},
   "outputs": [],
   "source": [
    "li = []\n",
    "for i in range(1,100,20):    \n",
    "    mlp_model = MLPClassifier(hidden_layer_sizes=(i,), activation='relu')  # Using the SVC  model\n",
    "    mlp_model.fit(X_train, y_train)   # Trainign the model with training data\n",
    "\n",
    "    mlp_pred = mlp_model.predict(X_test) # Applying the model on the testing data\n",
    "    mlp_acc = accuracy_score(y_test, mlp_pred) # Calculating the accuracy score\n",
    "\n",
    "    li = li + [mlp_acc]\n",
    "\n",
    "print(li)"
   ]
  },
  {
   "cell_type": "markdown",
   "metadata": {},
   "source": [
    "# Results: summarize and visualize the results discovered from the analysis\n",
    "\n",
    "Please use figures or tables to present the results.\n"
   ]
  },
  {
   "cell_type": "code",
   "execution_count": 51,
   "metadata": {},
   "outputs": [
    {
     "name": "stdout",
     "output_type": "stream",
     "text": [
      "+------+------------------------------+--------------------+\n",
      "| S.No |    Machine Learning Model    |      Accuracy      |\n",
      "+------+------------------------------+--------------------+\n",
      "|  1   |     Logistic Regression      | 0.8860922878347854 |\n",
      "|  2   |          Linear SVC          | 0.8861729590190384 |\n",
      "|  3   |     K Nearest Neighbors      | 0.7830751855437238 |\n",
      "|  4   | Fully Connected Layers (MLP) | 0.4978218780251694 |\n",
      "+------+------------------------------+--------------------+\n"
     ]
    }
   ],
   "source": [
    "from prettytable import PrettyTable\n",
    "\n",
    "x = PrettyTable()\n",
    "\n",
    "x.field_names = [\"S.No\",\"Machine Learning Model\", \"Accuracy\"]\n",
    "x.add_row([1,\"Logistic Regression\", lr_acc])\n",
    "x.add_row([2,\"Linear SVC\", svc_acc])\n",
    "x.add_row([3,\"K Nearest Neighbors\", knn_acc])\n",
    "x.add_row([4,\"Fully Connected Layers (MLP)\", mlp_acc])\n",
    "\n",
    "print(x)"
   ]
  },
  {
   "cell_type": "code",
   "execution_count": 58,
   "metadata": {},
   "outputs": [
    {
     "data": {
      "text/plain": [
       "[]"
      ]
     },
     "execution_count": 58,
     "metadata": {},
     "output_type": "execute_result"
    },
    {
     "data": {
      "image/png": "[encoded data removed]",
      "text/plain": [
       "<Figure size 2500x1000 with 1 Axes>"
      ]
     },
     "metadata": {},
     "output_type": "display_data"
    }
   ],
   "source": [
    "# MLP Hidden layer vs Accuracy graph\n",
    "plt.figure(figsize=(25,10))\n",
    "\n",
    "\n",
    "plt.plot(range(1,100,20), li,'bv--')\n",
    "plt.title('MLP Classifier Hidden layer sizes vs. Accuracy')\n",
    "\n",
    "plt.xticks(range(1,100,20))\n",
    "plt.ylabel('Accuracy')\n",
    "plt.xlabel('Hidden layer sizes')\n",
    "\n",
    "plt.plot()\n"
   ]
  },
  {
   "cell_type": "raw",
   "metadata": {},
   "source": [
    "Finally, to summarize the given analysis we can say that the Linear SVC is performing better compared to all other models. with an accuracy score of 88.61 %"
   ]
  }
 ],
 "metadata": {
  "kernelspec": {
   "display_name": "Python 3 (ipykernel)",
   "language": "python",
   "name": "python3"
  },
  "language_info": {
   "codemirror_mode": {
    "name": "ipython",
    "version": 3
   },
   "file_extension": ".py",
   "mimetype": "text/x-python",
   "name": "python",
   "nbconvert_exporter": "python",
   "pygments_lexer": "ipython3",
   "version": "3.9.12"
  }
 },
 "nbformat": 4,
 "nbformat_minor": 1
}
