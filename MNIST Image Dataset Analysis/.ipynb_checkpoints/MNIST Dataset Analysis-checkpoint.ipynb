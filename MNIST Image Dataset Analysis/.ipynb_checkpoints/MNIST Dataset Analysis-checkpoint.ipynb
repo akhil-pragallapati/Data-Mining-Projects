{
 "cells": [
  {
   "cell_type": "markdown",
   "metadata": {
    "id": "V_yLA4XoXbCG"
   },
   "source": [
    "# Data Mining in Image Data"
   ]
  },
  {
   "cell_type": "markdown",
   "metadata": {
    "id": "8rl9r-MkXbCJ"
   },
   "source": [
    "**Dataset used in this case study:** \n",
    "* MNIST dataset\n",
    "\n",
    "** NOTE **\n",
    "* This is not my data set, its a publically available dataset\n",
    "* You can directly load the dataset from keras using: `from keras.datasets import mnist`\n",
    "* You may need install tensorflow and keras first: https://keras.io/ \n"
   ]
  },
  {
   "cell_type": "markdown",
   "metadata": {},
   "source": [
    "**Author : Akhil Pragallapati**"
   ]
  },
  {
   "cell_type": "markdown",
   "metadata": {
    "id": "6y4HoTrJXbCK"
   },
   "source": [
    "# Problem Statement:\n",
    "\n",
    "The problem statement here is to create a deep learning model that can precisely identify handwritten digits in the MNIST dataset. The training set will be used to train the models, and the test set will be used to evaluate them using accuracy as the evaluation metric. \n",
    "The objective is to create a model that performs well on the test set, demonstrating that it can correctly identify the numbers in the real time.\n",
    "This problem statemnt is important as in may real time applications we need image recognition, like in automatic cars, navigation, human interacting robots, the vaccum cleaning robots, google lens, etc...\n",
    "Recognising the images and categorising them is the foundation for all the above tasks."
   ]
  },
  {
   "cell_type": "markdown",
   "metadata": {
    "id": "ZiPPEXQJXbCL"
   },
   "source": [
    "# Data Collection/Processing: "
   ]
  },
  {
   "cell_type": "code",
   "execution_count": 20,
   "metadata": {
    "colab": {
     "base_uri": "https://localhost:8080/"
    },
    "executionInfo": {
     "elapsed": 522,
     "status": "ok",
     "timestamp": 1679880973284,
     "user": {
      "displayName": "akhil pragallapati",
      "userId": "07212779871818200036"
     },
     "user_tz": 240
    },
    "id": "Cd6xW-BgXbCM",
    "outputId": "cfed0032-8920-4ab3-d5b2-822f96f1d526"
   },
   "outputs": [
    {
     "name": "stdout",
     "output_type": "stream",
     "text": [
      "<module 'keras.datasets.mnist' from '/usr/local/lib/python3.9/dist-packages/keras/datasets/mnist.py'>\n"
     ]
    }
   ],
   "source": [
    "from keras.datasets import mnist\n",
    "print(mnist)\n",
    "#Collecting the data from the mnist and loading them in train_x, train_y, test_x, test_y\n",
    "(train_X, train_y), (test_X, test_y) = mnist.load_data()\n"
   ]
  },
  {
   "cell_type": "code",
   "execution_count": 21,
   "metadata": {
    "colab": {
     "base_uri": "https://localhost:8080/"
    },
    "executionInfo": {
     "elapsed": 728,
     "status": "ok",
     "timestamp": 1679880979426,
     "user": {
      "displayName": "akhil pragallapati",
      "userId": "07212779871818200036"
     },
     "user_tz": 240
    },
    "id": "dUFaQs4_pgwl",
    "outputId": "7e552eb3-6039-42ba-f3fb-37a1a9e42033"
   },
   "outputs": [
    {
     "name": "stdout",
     "output_type": "stream",
     "text": [
      "\n",
      " Training dataset Size:  60000\n",
      "\n",
      " Testing Dataset Size:  10000\n"
     ]
    }
   ],
   "source": [
    "\n",
    "from keras.utils import to_categorical\n",
    "\n",
    "# Displaying the size of the datset based on the training and testing dataset\n",
    "print(\"\\n Training dataset Size: \", len(train_X))\n",
    "print(\"\\n Testing Dataset Size: \",len(test_X))\n",
    "\n",
    "\n",
    "# reshaping the images to 4D tensors with shape (batch_size, height, width, channels)\n",
    "train_X = train_X.reshape((60000, 28, 28, 1))\n",
    "test_X = test_X.reshape((10000, 28, 28, 1))\n",
    "\n",
    "# Converting the images to float32 and scale the pixel values to the range [0, 1]\n",
    "train_X = train_X.astype('float32') / 255\n",
    "test_X = test_X.astype('float32') / 255\n",
    "\n",
    "# Converting the labels to categorical one-hot encoding\n",
    "train_y = to_categorical(train_y, num_classes=10)\n",
    "test_y = to_categorical(test_y, num_classes=10)\n",
    "\n",
    "\n",
    "\n"
   ]
  },
  {
   "cell_type": "markdown",
   "metadata": {
    "id": "SGuz4zYpXbCN"
   },
   "source": [
    "# Data Exploration: Exploring the your data\n"
   ]
  },
  {
   "cell_type": "code",
   "execution_count": 22,
   "metadata": {
    "colab": {
     "base_uri": "https://localhost:8080/",
     "height": 922
    },
    "executionInfo": {
     "elapsed": 738,
     "status": "ok",
     "timestamp": 1679880983869,
     "user": {
      "displayName": "akhil pragallapati",
      "userId": "07212779871818200036"
     },
     "user_tz": 240
    },
    "id": "hYbXuEBuXbCO",
    "outputId": "9f85ea02-2343-48c5-e9b4-96603a0a4b6b"
   },
   "outputs": [
    {
     "data": {
      "image/png": "[encoded data removed]",
      "text/plain": [
       "<Figure size 432x288 with 1 Axes>"
      ]
     },
     "metadata": {
      "needs_background": "light"
     },
     "output_type": "display_data"
    },
    {
     "name": "stderr",
     "output_type": "stream",
     "text": [
      "/usr/local/lib/python3.9/dist-packages/matplotlib/text.py:1279: FutureWarning: elementwise comparison failed; returning scalar instead, but in the future will perform elementwise comparison\n",
      "  if s != self._text:\n"
     ]
    },
    {
     "data": {
      "image/png": "[encoded data removed]",
      "text/plain": [
       "<Figure size 720x720 with 9 Axes>"
      ]
     },
     "metadata": {},
     "output_type": "display_data"
    }
   ],
   "source": [
    "# Your code starts here\n",
    "#   Please add comments or text cells in between to explain the general idea of each block of the code.\n",
    "#   Please feel free to add more cells below this cell if necessary\n",
    "\n",
    "import numpy as np\n",
    "\n",
    "import matplotlib.pyplot as plt\n",
    "\n",
    "# Counting the categories and displaying them into histograms of the categories\n",
    "\n",
    "catrgory_counter = np.bincount(np.argmax(train_y, axis=1))\n",
    "categories = np.arange(10)\n",
    "plt.bar(categories, catrgory_counter)\n",
    "plt.xticks(categories)\n",
    "\n",
    "plt.ylabel('Frequency')\n",
    "\n",
    "plt.xlabel('Category')\n",
    "\n",
    "plt.title('Catrgory and frequency of the data')\n",
    "plt.show()\n",
    "\n",
    "\n",
    "# displaying 9 sample images with their target values in y axis and , feature value in y axis\n",
    "\n",
    "# defining the figure size\n",
    "plt.figure(figsize=(10, 10))\n",
    "\n",
    "\n",
    "def arg_value_return(list_arg, value):\n",
    "    if value in list_arg:\n",
    "        \n",
    "        return list(list_arg).index(value)\n",
    "    else:\n",
    "        return 11\n",
    "\n",
    "\n",
    "for i in range(9):\n",
    "    # defining the subplot of the individual values\n",
    "    plt.subplot(3, 3, i+1)\n",
    "    \n",
    "    plt.imshow(np.squeeze(train_X[i]), cmap='gray')\n",
    "    \n",
    "    \n",
    "    plt.yticks([])\n",
    "    \n",
    "    plt.xticks([])\n",
    "    \n",
    "    plt.xlabel(train_y[i])\n",
    "    plt.ylabel(arg_value_return(train_y[i],1))\n",
    "plt.show()\n"
   ]
  },
  {
   "cell_type": "markdown",
   "metadata": {
    "id": "s-aE-lSeXbCP"
   },
   "source": [
    "\n",
    "# Solution :\n",
    "\n",
    "The MNIST dataset includes 60000 rows of data for the training dataset and 10000  for testing dataset. We can see from the above visualtsation that we have 10 categories or 10 numbers which are 0-9, 0 being 1 and 9 being 10. \n",
    "\n",
    "Implementation:\n",
    "We used Keras to create three deep learning models: a basic neural network, a convolutional neural network (CNN), and a pre-trained CNN to recognize images in the MNIST dataset. \n",
    "first preprocessed the data by converting the labels to categorical one-hot encoding and scaling the pixel values to the range the values between 0 and 1."
   ]
  },
  {
   "cell_type": "markdown",
   "metadata": {
    "id": "V1GLkgMKXbCP"
   },
   "source": [
    "***Solution code in python***"
   ]
  },
  {
   "cell_type": "code",
   "execution_count": 23,
   "metadata": {
    "executionInfo": {
     "elapsed": 178,
     "status": "ok",
     "timestamp": 1679880989790,
     "user": {
      "displayName": "akhil pragallapati",
      "userId": "07212779871818200036"
     },
     "user_tz": 240
    },
    "id": "QICGxtxtXbCQ"
   },
   "outputs": [],
   "source": [
    "# Your code starts here\n",
    "#   Please add comments or text cells in between to explain the general idea of each block of the code.\n",
    "#   Please feel free to add more cells below this cell if necessary\n",
    "\n",
    "\n",
    "from keras.models import Sequential\n",
    "from keras.layers import Dense, Flatten\n",
    "\n",
    "# Model 1: Simple Neural Network\n",
    "\n",
    "# Defining the simple neural network model\n",
    "model_SNN = Sequential([\n",
    "    Flatten(input_shape=(28, 28, 1)),\n",
    "    Dense(128, activation='relu'),\n",
    "    Dense(10, activation='softmax')\n",
    "])\n",
    "\n",
    "# Compiling the model\n",
    "model_SNN.compile(optimizer='adam', loss='categorical_crossentropy', metrics=['accuracy'])\n"
   ]
  },
  {
   "cell_type": "code",
   "execution_count": 24,
   "metadata": {
    "colab": {
     "base_uri": "https://localhost:8080/"
    },
    "executionInfo": {
     "elapsed": 22163,
     "status": "ok",
     "timestamp": 1679881015698,
     "user": {
      "displayName": "akhil pragallapati",
      "userId": "07212779871818200036"
     },
     "user_tz": 240
    },
    "id": "5zoZHYYDpgw2",
    "outputId": "13cceb55-26df-405e-8b70-9d7ff3feaa31"
   },
   "outputs": [
    {
     "name": "stdout",
     "output_type": "stream",
     "text": [
      "Epoch 1/10\n",
      "375/375 [==============================] - 2s 4ms/step - loss: 0.3947 - accuracy: 0.8908 - val_loss: 0.2041 - val_accuracy: 0.9448\n",
      "Epoch 2/10\n",
      "375/375 [==============================] - 1s 4ms/step - loss: 0.1806 - accuracy: 0.9481 - val_loss: 0.1549 - val_accuracy: 0.9560\n",
      "Epoch 3/10\n",
      "375/375 [==============================] - 1s 4ms/step - loss: 0.1301 - accuracy: 0.9629 - val_loss: 0.1262 - val_accuracy: 0.9647\n",
      "Epoch 4/10\n",
      "375/375 [==============================] - 2s 4ms/step - loss: 0.1008 - accuracy: 0.9713 - val_loss: 0.1117 - val_accuracy: 0.9677\n",
      "Epoch 5/10\n",
      "375/375 [==============================] - 2s 4ms/step - loss: 0.0810 - accuracy: 0.9771 - val_loss: 0.1013 - val_accuracy: 0.9703\n",
      "Epoch 6/10\n",
      "375/375 [==============================] - 1s 3ms/step - loss: 0.0660 - accuracy: 0.9813 - val_loss: 0.0936 - val_accuracy: 0.9720\n",
      "Epoch 7/10\n",
      "375/375 [==============================] - 1s 4ms/step - loss: 0.0549 - accuracy: 0.9850 - val_loss: 0.0893 - val_accuracy: 0.9729\n",
      "Epoch 8/10\n",
      "375/375 [==============================] - 1s 3ms/step - loss: 0.0468 - accuracy: 0.9869 - val_loss: 0.0903 - val_accuracy: 0.9726\n",
      "Epoch 9/10\n",
      "375/375 [==============================] - 1s 3ms/step - loss: 0.0391 - accuracy: 0.9893 - val_loss: 0.0870 - val_accuracy: 0.9728\n",
      "Epoch 10/10\n",
      "375/375 [==============================] - 1s 3ms/step - loss: 0.0326 - accuracy: 0.9915 - val_loss: 0.0911 - val_accuracy: 0.9726\n",
      "313/313 [==============================] - 1s 2ms/step - loss: 0.0861 - accuracy: 0.9734\n",
      "Accuracy for SSN: 0.9733999967575073\n"
     ]
    }
   ],
   "source": [
    "\n",
    "# Training SNN  model\n",
    "SNN = model_SNN.fit(train_X, train_y, epochs=10, batch_size=128, validation_split=0.2)\n",
    "\n",
    "# Evaluate the model on the test set\n",
    "test_loss, test_acc_SNN = model_SNN.evaluate(test_X, test_y)\n",
    "\n",
    "print('Accuracy for SSN:', test_acc_SNN)\n",
    "\n",
    "accuracy_values_SNN = []\n",
    "accuracy_values_SNN = SNN.history['accuracy']"
   ]
  },
  {
   "cell_type": "code",
   "execution_count": 25,
   "metadata": {
    "executionInfo": {
     "elapsed": 178,
     "status": "ok",
     "timestamp": 1679881018481,
     "user": {
      "displayName": "akhil pragallapati",
      "userId": "07212779871818200036"
     },
     "user_tz": 240
    },
    "id": "g8-nCrBBpgw3"
   },
   "outputs": [],
   "source": [
    "# Model 2: Convolutional neural network\n",
    "\n",
    "import numpy as np\n",
    "import tensorflow as tf\n",
    "from tensorflow import keras\n",
    "from keras.datasets import mnist\n",
    "from keras.utils import to_categorical\n",
    "from keras.models import Sequential, Model\n",
    "from keras.layers import Dense, Dropout, Flatten, Conv2D, MaxPooling2D\n",
    "\n",
    "\n",
    "\n",
    "# Defining the CNN Model\n",
    "model_CNN = Sequential([\n",
    "    Conv2D(32, kernel_size=(3, 3), activation='relu', input_shape=(28, 28, 1)),\n",
    "    Conv2D(64, kernel_size=(3, 3), activation='relu'),\n",
    "    MaxPooling2D(pool_size=(2, 2)),\n",
    "    Flatten(),\n",
    "    Dense(128, activation='relu'),\n",
    "    Dense(10, activation='softmax')\n",
    "])\n",
    "\n",
    "# Compiling the CNN Model\n",
    "\n",
    "model_CNN.compile(loss='categorical_crossentropy', optimizer='adam', metrics=['accuracy'])\n",
    "x_train_cnn = np.expand_dims(train_X, axis=-1)\n",
    "x_test_cnn = np.expand_dims(test_X, axis=-1)\n"
   ]
  },
  {
   "cell_type": "code",
   "execution_count": 26,
   "metadata": {
    "colab": {
     "base_uri": "https://localhost:8080/"
    },
    "executionInfo": {
     "elapsed": 43539,
     "status": "ok",
     "timestamp": 1679881065121,
     "user": {
      "displayName": "akhil pragallapati",
      "userId": "07212779871818200036"
     },
     "user_tz": 240
    },
    "id": "FySIWZzWpgw4",
    "outputId": "b8f1fbe8-d618-4596-d162-ba1c900c9a2f"
   },
   "outputs": [
    {
     "name": "stdout",
     "output_type": "stream",
     "text": [
      "Epoch 1/10\n",
      "469/469 [==============================] - 6s 8ms/step - loss: 0.1584 - accuracy: 0.9534 - val_loss: 0.0540 - val_accuracy: 0.9810\n",
      "Epoch 2/10\n",
      "469/469 [==============================] - 4s 9ms/step - loss: 0.0438 - accuracy: 0.9867 - val_loss: 0.0476 - val_accuracy: 0.9838\n",
      "Epoch 3/10\n",
      "469/469 [==============================] - 4s 9ms/step - loss: 0.0286 - accuracy: 0.9907 - val_loss: 0.0349 - val_accuracy: 0.9878\n",
      "Epoch 4/10\n",
      "469/469 [==============================] - 4s 9ms/step - loss: 0.0185 - accuracy: 0.9940 - val_loss: 0.0341 - val_accuracy: 0.9880\n",
      "Epoch 5/10\n",
      "469/469 [==============================] - 4s 8ms/step - loss: 0.0126 - accuracy: 0.9960 - val_loss: 0.0471 - val_accuracy: 0.9864\n",
      "Epoch 6/10\n",
      "469/469 [==============================] - 4s 8ms/step - loss: 0.0092 - accuracy: 0.9970 - val_loss: 0.0392 - val_accuracy: 0.9886\n",
      "Epoch 7/10\n",
      "469/469 [==============================] - 4s 8ms/step - loss: 0.0079 - accuracy: 0.9974 - val_loss: 0.0388 - val_accuracy: 0.9888\n",
      "Epoch 8/10\n",
      "469/469 [==============================] - 4s 8ms/step - loss: 0.0066 - accuracy: 0.9978 - val_loss: 0.0467 - val_accuracy: 0.9876\n",
      "Epoch 9/10\n",
      "469/469 [==============================] - 4s 9ms/step - loss: 0.0065 - accuracy: 0.9978 - val_loss: 0.0381 - val_accuracy: 0.9905\n",
      "Epoch 10/10\n",
      "469/469 [==============================] - 4s 8ms/step - loss: 0.0037 - accuracy: 0.9989 - val_loss: 0.0367 - val_accuracy: 0.9901\n",
      "CNN Test Accuracy: 0.9901000261306763\n"
     ]
    }
   ],
   "source": [
    "# Training the CNN Model\n",
    "\n",
    "CNN = model_CNN.fit(x_train_cnn, train_y, validation_data=(x_test_cnn, test_y), epochs=10, batch_size=128)\n",
    "\n",
    "#Evaluating the CNN model\n",
    "\n",
    "test_loss_CNN, test_acc_CNN = model_CNN.evaluate(x_test_cnn, test_y, verbose=0)\n",
    "print('CNN Test Accuracy:', test_acc_CNN)\n",
    "\n",
    "\n",
    "\n",
    "accuracy_values_CNN = []\n",
    "accuracy_values_CNN = CNN.history['accuracy']\n"
   ]
  },
  {
   "cell_type": "code",
   "execution_count": 29,
   "metadata": {
    "executionInfo": {
     "elapsed": 2614,
     "status": "ok",
     "timestamp": 1679881280754,
     "user": {
      "displayName": "akhil pragallapati",
      "userId": "07212779871818200036"
     },
     "user_tz": 240
    },
    "id": "ImXsXtW-pgw5"
   },
   "outputs": [],
   "source": [
    "import numpy as np\n",
    "import tensorflow as tf\n",
    "from tensorflow import keras\n",
    "from keras.datasets import mnist\n",
    "from keras.utils import to_categorical\n",
    "from keras.models import Sequential, Model\n",
    "from keras.layers import Dense, Dropout, Flatten, Conv2D, MaxPooling2D\n",
    "from keras.applications import VGG16\n",
    "\n",
    "\n",
    "\n",
    "# Model 3: Pre-Trained CNN Model\n",
    "\n",
    "(train_X, train_y), (test_X, test_y) = mnist.load_data()\n",
    "train_X = train_X.astype('float32') / 255.0\n",
    "test_X = test_X.astype('float32') / 255.0\n",
    "train_y = to_categorical(train_y, num_classes=10)\n",
    "test_y = to_categorical(test_y, num_classes=10)\n",
    "\n",
    "\n",
    "\n",
    "# Pre-trained CNN Model\n",
    "Pre_CNN = VGG16(weights='imagenet', include_top=False, input_shape=(48, 48, 3))\n",
    "\n",
    "x = Pre_CNN.output\n",
    "x = Flatten()(x)\n",
    "x = Dense(128, activation='relu')(x)\n",
    "\n",
    "predictions = Dense(10, activation='softmax')(x)\n",
    "pre_trained_CNN = Model(inputs=Pre_CNN.input, outputs=predictions)\n",
    "for layer in Pre_CNN.layers:\n",
    "    layer.trainable = False\n",
    "pre_trained_CNN.compile(loss='categorical_crossentropy', optimizer='adam', metrics=['accuracy'])\n",
    "\n",
    "\n",
    "x_train_pretrained_cnn = np.repeat(train_X[..., np.newaxis], 3, -1)\n",
    "x_train_pretrained_cnn = tf.image.resize(x_train_pretrained_cnn, (48, 48))\n",
    "x_test_pretrained_cnn = np.repeat(test_X[..., np.newaxis], 3, -1)\n",
    "x_test_pretrained_cnn = tf.image.resize(x_test_pretrained_cnn, (48, 48))"
   ]
  },
  {
   "cell_type": "code",
   "execution_count": 31,
   "metadata": {
    "colab": {
     "base_uri": "https://localhost:8080/"
    },
    "executionInfo": {
     "elapsed": 205787,
     "status": "ok",
     "timestamp": 1679881542279,
     "user": {
      "displayName": "akhil pragallapati",
      "userId": "07212779871818200036"
     },
     "user_tz": 240
    },
    "id": "AnO_PxoLpgw6",
    "outputId": "a083789b-19d5-4e85-eea4-4ecd0e40341d"
   },
   "outputs": [
    {
     "name": "stdout",
     "output_type": "stream",
     "text": [
      "Epoch 1/10\n",
      "469/469 [==============================] - 17s 35ms/step - loss: 0.1172 - accuracy: 0.9651 - val_loss: 0.1076 - val_accuracy: 0.9675\n",
      "Epoch 2/10\n",
      "469/469 [==============================] - 17s 36ms/step - loss: 0.0983 - accuracy: 0.9701 - val_loss: 0.0953 - val_accuracy: 0.9690\n",
      "Epoch 3/10\n",
      "469/469 [==============================] - 17s 36ms/step - loss: 0.0874 - accuracy: 0.9731 - val_loss: 0.0903 - val_accuracy: 0.9712\n",
      "Epoch 4/10\n",
      "469/469 [==============================] - 17s 36ms/step - loss: 0.0794 - accuracy: 0.9756 - val_loss: 0.0883 - val_accuracy: 0.9727\n",
      "Epoch 5/10\n",
      "469/469 [==============================] - 17s 36ms/step - loss: 0.0737 - accuracy: 0.9778 - val_loss: 0.0795 - val_accuracy: 0.9757\n",
      "Epoch 6/10\n",
      "469/469 [==============================] - 17s 36ms/step - loss: 0.0690 - accuracy: 0.9787 - val_loss: 0.0805 - val_accuracy: 0.9739\n",
      "Epoch 7/10\n",
      "469/469 [==============================] - 17s 36ms/step - loss: 0.0651 - accuracy: 0.9797 - val_loss: 0.0765 - val_accuracy: 0.9758\n",
      "Epoch 8/10\n",
      "469/469 [==============================] - 17s 36ms/step - loss: 0.0626 - accuracy: 0.9805 - val_loss: 0.0746 - val_accuracy: 0.9766\n",
      "Epoch 9/10\n",
      "469/469 [==============================] - 17s 37ms/step - loss: 0.0589 - accuracy: 0.9818 - val_loss: 0.0727 - val_accuracy: 0.9773\n",
      "Epoch 10/10\n",
      "469/469 [==============================] - 17s 36ms/step - loss: 0.0562 - accuracy: 0.9821 - val_loss: 0.0743 - val_accuracy: 0.9773\n",
      "Pre-trained CNN Model 0.9772999882698059\n"
     ]
    }
   ],
   "source": [
    "\n",
    "\n",
    "PRE = pre_trained_CNN.fit(x_train_pretrained_cnn, train_y, validation_data=(x_test_pretrained_cnn, test_y), epochs=10, batch_size=128)\n",
    "test_loss_PRE, test_acc_PRE = pre_trained_CNN.evaluate(x_test_pretrained_cnn, test_y, verbose = 0)\n",
    "print(\"Pre-trained CNN Model\", test_acc_PRE)\n",
    "\n"
   ]
  },
  {
   "cell_type": "markdown",
   "metadata": {
    "id": "dwpsODZzXbCT"
   },
   "source": [
    "# Conclusion:\n",
    "\n",
    "A single hidden layer with 128 neurons and a softmax output layer with 10 neurons made up the basic neural network. After 10 training epochs, the model attained a test accuracy of 0.9761.\n",
    "Following two dense layers with 128 and 10 neurons each, the CNN had two convolutional layers with 32 and 64 filters each. After 10 training iterations, the model had a test accuracy of 0.9901.\n",
    "\n",
    "The VGG16 model, which was pre-trained using the ImageNet dataset, was the pre-trained CNN. The model's final few layers were adjusted to better suit our task of reading numerals. After 10 training iterations, the model had a test accuracy of 0.9772.\n",
    "\n",
    "These findings indicate that all three models are highly accurate at identifying the given digits in the MNIST dataset. The simple neural network model is performing weaker than the CNN and pre-trained CNN models.\n",
    "\n",
    "Based on the findings above we can say that the Simple neural network is the least performing, this can be becasue there are less number of layers in the Simple neural networks. The CNN and pre-trained CNN both performed very well, but we can say that the CNN is better as the accuracy is more for that, and we can also say that the learning can be transfered in case of pre_trained CNN, that means going forward the model will perform better based on the pre training, so we can say it's constantly improving. This can be seen through the below graphs.\n",
    "\n",
    "Finally to conclude we can use the CNN with two convolutional layers with 32 and 64 filters, respectively, followed by two dense layers with 128 and 10 neurons, respectively."
   ]
  },
  {
   "cell_type": "code",
   "execution_count": 32,
   "metadata": {
    "colab": {
     "base_uri": "https://localhost:8080/",
     "height": 295
    },
    "executionInfo": {
     "elapsed": 432,
     "status": "ok",
     "timestamp": 1679881546974,
     "user": {
      "displayName": "akhil pragallapati",
      "userId": "07212779871818200036"
     },
     "user_tz": 240
    },
    "id": "i7uM49kApgw8",
    "outputId": "721e15f8-c018-4d8e-b544-ebfa8230531e"
   },
   "outputs": [
    {
     "data": {
      "image/png": "[encoded data removed]",
      "text/plain": [
       "<Figure size 432x288 with 1 Axes>"
      ]
     },
     "metadata": {
      "needs_background": "light"
     },
     "output_type": "display_data"
    }
   ],
   "source": [
    "\n",
    "# Plot the accuracy values\n",
    "plt.plot(np.arange(1, 11), accuracy_values_SNN)\n",
    "plt.ylabel('Accuracy of SSN')\n",
    "\n",
    "plt.title('Accuracy vs Epochs of Model SSN')\n",
    "plt.xlabel('Epochs Number')\n",
    "\n",
    "plt.show()"
   ]
  },
  {
   "cell_type": "code",
   "execution_count": 41,
   "metadata": {
    "colab": {
     "base_uri": "https://localhost:8080/",
     "height": 295
    },
    "executionInfo": {
     "elapsed": 382,
     "status": "ok",
     "timestamp": 1679881812569,
     "user": {
      "displayName": "akhil pragallapati",
      "userId": "07212779871818200036"
     },
     "user_tz": 240
    },
    "id": "_SMHbxkypgw9",
    "outputId": "e2c695ab-2f7b-43de-a2da-5bd24f271787"
   },
   "outputs": [
    {
     "data": {
      "image/png": "[encoded data removed]",
      "text/plain": [
       "<Figure size 432x288 with 1 Axes>"
      ]
     },
     "metadata": {
      "needs_background": "light"
     },
     "output_type": "display_data"
    }
   ],
   "source": [
    "\n",
    "accuracy_values_CNN = []\n",
    "for epoch in range(len(CNN.history['accuracy'])):\n",
    "    accuracy_values_CNN.append(CNN.history['accuracy'][epoch])\n",
    "#print(accuracy_values_CNN)\n",
    "\n",
    "# Plot the accuracy values\n",
    "plt.plot(np.arange(1, 11), accuracy_values_CNN, color = 'green')\n",
    "plt.ylabel('Accuracy of CNN')\n",
    "\n",
    "plt.title('Accuracy vs Epochs of Model CNN')\n",
    "plt.xlabel('Epochs Number')\n",
    "\n",
    "plt.show()"
   ]
  },
  {
   "cell_type": "code",
   "execution_count": 40,
   "metadata": {
    "colab": {
     "base_uri": "https://localhost:8080/",
     "height": 295
    },
    "executionInfo": {
     "elapsed": 390,
     "status": "ok",
     "timestamp": 1679881800090,
     "user": {
      "displayName": "akhil pragallapati",
      "userId": "07212779871818200036"
     },
     "user_tz": 240
    },
    "id": "m4n71IiVpgw-",
    "outputId": "cfca612e-b28e-4fd8-e9db-80a7b2111c8c"
   },
   "outputs": [
    {
     "data": {
      "image/png": "[encoded data removed]",
      "text/plain": [
       "<Figure size 432x288 with 1 Axes>"
      ]
     },
     "metadata": {
      "needs_background": "light"
     },
     "output_type": "display_data"
    }
   ],
   "source": [
    "\n",
    "accuracy_values_PRE = []\n",
    "for epoch in range(len(PRE.history['accuracy'])):\n",
    "    accuracy_values_PRE.append(PRE.history['accuracy'][epoch])\n",
    "#print(accuracy_values_PRE)\n",
    "\n",
    "# Plot the accuracy values\n",
    "plt.plot(np.arange(1, 11), accuracy_values_PRE, color = 'red')\n",
    "plt.ylabel('Accuracy of Pre-Trained CNN')\n",
    "\n",
    "plt.title('Accuracy vs Epochs of Model Pre-Trained CNN')\n",
    "plt.xlabel('Epochs Number')\n",
    "\n",
    "plt.show()"
   ]
  },
  {
   "cell_type": "code",
   "execution_count": 39,
   "metadata": {
    "colab": {
     "base_uri": "https://localhost:8080/"
    },
    "executionInfo": {
     "elapsed": 240,
     "status": "ok",
     "timestamp": 1679881775177,
     "user": {
      "displayName": "akhil pragallapati",
      "userId": "07212779871818200036"
     },
     "user_tz": 240
    },
    "id": "wGge32SWpgw-",
    "outputId": "87cb8ec6-e29b-4bbb-d237-c4d7dc499f47"
   },
   "outputs": [
    {
     "name": "stdout",
     "output_type": "stream",
     "text": [
      "+------+------------------------------+--------------------+\n",
      "| S.No |     Neural Network Model     |      Accuracy      |\n",
      "+------+------------------------------+--------------------+\n",
      "|  1   |    Simple Neural Network     | 0.9733999967575073 |\n",
      "|  2   | Convolutional neural network | 0.9901000261306763 |\n",
      "|  3   |       Pre-Trained CNN        | 0.9772999882698059 |\n",
      "+------+------------------------------+--------------------+\n"
     ]
    }
   ],
   "source": [
    "from prettytable import PrettyTable\n",
    "\n",
    "\n",
    "x = PrettyTable()\n",
    "\n",
    "x.field_names = [\"S.No\",\"Neural Network Model\", \"Accuracy\"]\n",
    "x.add_row([1,\"Simple Neural Network\", test_acc_SNN])\n",
    "x.add_row([2,\"Convolutional neural network\", test_acc_CNN])\n",
    "x.add_row([3,\"Pre-Trained CNN\", test_acc_PRE])\n",
    "\n",
    "print(x)\n"
   ]
  }
 ],
 "metadata": {
  "accelerator": "GPU",
  "colab": {
   "provenance": []
  },
  "gpuClass": "standard",
  "kernelspec": {
   "display_name": "Python 3 (ipykernel)",
   "language": "python",
   "name": "python3"
  },
  "language_info": {
   "codemirror_mode": {
    "name": "ipython",
    "version": 3
   },
   "file_extension": ".py",
   "mimetype": "text/x-python",
   "name": "python",
   "nbconvert_exporter": "python",
   "pygments_lexer": "ipython3",
   "version": "3.9.12"
  }
 },
 "nbformat": 4,
 "nbformat_minor": 1
}
