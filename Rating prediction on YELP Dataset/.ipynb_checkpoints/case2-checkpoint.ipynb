{
 "cells": [
  {
   "cell_type": "markdown",
   "metadata": {
    "id": "ChfpQBVn1SdU"
   },
   "source": [
    "# Case Study 2 : Data Mining in Yelp Data"
   ]
  },
  {
   "cell_type": "markdown",
   "metadata": {
    "id": "befFffmo1SdY"
   },
   "source": [
    "\n",
    "Please download the Yelp dataset in Case Study 2 in BrightSpace. \n",
    "\n",
    "**Here is an example of the data format:**\n",
    "### Business Objects\n",
    "\n",
    "Business objects contain basic information about local businesses. The fields are as follows:\n",
    "\n",
    "```json\n",
    "{\n",
    "  'type': 'business',\n",
    "  'business_id': (a unique identifier for this business),\n",
    "  'name': (the full business name),\n",
    "  'neighborhoods': (a list of neighborhood names, might be empty),\n",
    "  'full_address': (localized address),\n",
    "  'city': (city),\n",
    "  'state': (state),\n",
    "  'latitude': (latitude),\n",
    "  'longitude': (longitude),\n",
    "  'stars': (star rating, rounded to half-stars),\n",
    "  'review_count': (review count),\n",
    "  'photo_url': (photo url),\n",
    "  'categories': [(localized category names)]\n",
    "  'open': (is the business still open for business?),\n",
    "  'schools': (nearby universities),\n",
    "  'url': (yelp url)\n",
    "}\n",
    "```\n",
    "### Checkin Objects\n",
    "```json\n",
    "{\n",
    "    'type': 'checkin',\n",
    "    'business_id': (encrypted business id),\n",
    "    'checkin_info': {\n",
    "        '0-0': (number of checkins from 00:00 to 01:00 on all Sundays),\n",
    "        '1-0': (number of checkins from 01:00 to 02:00 on all Sundays),\n",
    "        ...\n",
    "        '14-4': (number of checkins from 14:00 to 15:00 on all Thursdays),\n",
    "        ...\n",
    "        '23-6': (number of checkins from 23:00 to 00:00 on all Saturdays)\n",
    "    }, # if there was no checkin for a hour-day block it will not be in the dict\n",
    "}\n",
    "```"
   ]
  },
  {
   "cell_type": "markdown",
   "metadata": {
    "id": "r7INb_yu1SdZ"
   },
   "source": [
    "# Problem: pick a data science problem that you plan to solve using Yelp Data\n",
    "* The problem should be important and interesting, which has a potential impact in some area.\n",
    "* The problem should be solvable using yelp data and data science solutions.\n",
    "\n",
    "Please briefly describe in the following cell: what problem are you trying to solve? why this problem is important and interesting?"
   ]
  },
  {
   "cell_type": "code",
   "execution_count": null,
   "metadata": {
    "id": "8EujUt1P1Sda"
   },
   "outputs": [],
   "source": [
    "\n",
    "\n",
    "\n",
    "\n",
    "\n",
    "\n"
   ]
  },
  {
   "cell_type": "markdown",
   "metadata": {
    "id": "48jE-6T81Sdb"
   },
   "source": [
    "# Data Collection/Processing: "
   ]
  },
  {
   "cell_type": "code",
   "execution_count": 24,
   "metadata": {
    "id": "omItoqAF1Sdc",
    "outputId": "4a88e704-fac1-4483-974d-7bec97e34f3d"
   },
   "outputs": [],
   "source": [
    "#----------------------------------------------\n",
    "# Your code starts here\n",
    "#   Please add comments or text cells in between to explain the general idea of each block of the code.\n",
    "#   Please feel free to add more cells below this cell if necessary\n",
    "\n",
    "import json"
   ]
  },
  {
   "cell_type": "code",
   "execution_count": 51,
   "metadata": {},
   "outputs": [],
   "source": [
    "import pandas as pd\n",
    "business_json_path = 'yelp_academic_dataset_business.json'\n",
    "df = pd.read_json(business_json_path, lines=True)"
   ]
  },
  {
   "cell_type": "code",
   "execution_count": 52,
   "metadata": {},
   "outputs": [
    {
     "data": {
      "text/html": [
       "<div>\n",
       "<style scoped>\n",
       "    .dataframe tbody tr th:only-of-type {\n",
       "        vertical-align: middle;\n",
       "    }\n",
       "\n",
       "    .dataframe tbody tr th {\n",
       "        vertical-align: top;\n",
       "    }\n",
       "\n",
       "    .dataframe thead th {\n",
       "        text-align: right;\n",
       "    }\n",
       "</style>\n",
       "<table border=\"1\" class=\"dataframe\">\n",
       "  <thead>\n",
       "    <tr style=\"text-align: right;\">\n",
       "      <th></th>\n",
       "      <th>business_id</th>\n",
       "      <th>name</th>\n",
       "      <th>neighborhood</th>\n",
       "      <th>address</th>\n",
       "      <th>city</th>\n",
       "      <th>state</th>\n",
       "      <th>postal_code</th>\n",
       "      <th>latitude</th>\n",
       "      <th>longitude</th>\n",
       "      <th>stars</th>\n",
       "      <th>review_count</th>\n",
       "      <th>is_open</th>\n",
       "      <th>attributes</th>\n",
       "      <th>categories</th>\n",
       "      <th>hours</th>\n",
       "    </tr>\n",
       "  </thead>\n",
       "  <tbody>\n",
       "    <tr>\n",
       "      <th>0</th>\n",
       "      <td>Apn5Q_b6Nz61Tq4XzPdf9A</td>\n",
       "      <td>Minhas Micro Brewery</td>\n",
       "      <td></td>\n",
       "      <td>1314 44 Avenue NE</td>\n",
       "      <td>Calgary</td>\n",
       "      <td>AB</td>\n",
       "      <td>T2E 6L6</td>\n",
       "      <td>51.091813</td>\n",
       "      <td>-114.031675</td>\n",
       "      <td>4.0</td>\n",
       "      <td>24</td>\n",
       "      <td>1</td>\n",
       "      <td>{'BikeParking': 'False', 'BusinessAcceptsCredi...</td>\n",
       "      <td>Tours, Breweries, Pizza, Restaurants, Food, Ho...</td>\n",
       "      <td>{'Monday': '8:30-17:0', 'Tuesday': '11:0-21:0'...</td>\n",
       "    </tr>\n",
       "    <tr>\n",
       "      <th>1</th>\n",
       "      <td>AjEbIBw6ZFfln7ePHha9PA</td>\n",
       "      <td>CK'S BBQ &amp; Catering</td>\n",
       "      <td></td>\n",
       "      <td></td>\n",
       "      <td>Henderson</td>\n",
       "      <td>NV</td>\n",
       "      <td>89002</td>\n",
       "      <td>35.960734</td>\n",
       "      <td>-114.939821</td>\n",
       "      <td>4.5</td>\n",
       "      <td>3</td>\n",
       "      <td>0</td>\n",
       "      <td>{'Alcohol': 'none', 'BikeParking': 'False', 'B...</td>\n",
       "      <td>Chicken Wings, Burgers, Caterers, Street Vendo...</td>\n",
       "      <td>{'Friday': '17:0-23:0', 'Saturday': '17:0-23:0...</td>\n",
       "    </tr>\n",
       "    <tr>\n",
       "      <th>2</th>\n",
       "      <td>O8S5hYJ1SMc8fA4QBtVujA</td>\n",
       "      <td>La Bastringue</td>\n",
       "      <td>Rosemont-La Petite-Patrie</td>\n",
       "      <td>1335 rue Beaubien E</td>\n",
       "      <td>Montréal</td>\n",
       "      <td>QC</td>\n",
       "      <td>H2G 1K7</td>\n",
       "      <td>45.540503</td>\n",
       "      <td>-73.599300</td>\n",
       "      <td>4.0</td>\n",
       "      <td>5</td>\n",
       "      <td>0</td>\n",
       "      <td>{'Alcohol': 'beer_and_wine', 'Ambience': '{'ro...</td>\n",
       "      <td>Breakfast &amp; Brunch, Restaurants, French, Sandw...</td>\n",
       "      <td>{'Monday': '10:0-22:0', 'Tuesday': '10:0-22:0'...</td>\n",
       "    </tr>\n",
       "    <tr>\n",
       "      <th>3</th>\n",
       "      <td>bFzdJJ3wp3PZssNEsyU23g</td>\n",
       "      <td>Geico Insurance</td>\n",
       "      <td></td>\n",
       "      <td>211 W Monroe St</td>\n",
       "      <td>Phoenix</td>\n",
       "      <td>AZ</td>\n",
       "      <td>85003</td>\n",
       "      <td>33.449999</td>\n",
       "      <td>-112.076979</td>\n",
       "      <td>1.5</td>\n",
       "      <td>8</td>\n",
       "      <td>1</td>\n",
       "      <td>None</td>\n",
       "      <td>Insurance, Financial Services</td>\n",
       "      <td>None</td>\n",
       "    </tr>\n",
       "    <tr>\n",
       "      <th>4</th>\n",
       "      <td>8USyCYqpScwiNEb58Bt6CA</td>\n",
       "      <td>Action Engine</td>\n",
       "      <td></td>\n",
       "      <td>2005 Alyth Place SE</td>\n",
       "      <td>Calgary</td>\n",
       "      <td>AB</td>\n",
       "      <td>T2H 0N5</td>\n",
       "      <td>51.035591</td>\n",
       "      <td>-114.027366</td>\n",
       "      <td>2.0</td>\n",
       "      <td>4</td>\n",
       "      <td>1</td>\n",
       "      <td>{'BusinessAcceptsCreditCards': 'True'}</td>\n",
       "      <td>Home &amp; Garden, Nurseries &amp; Gardening, Shopping...</td>\n",
       "      <td>{'Monday': '8:0-17:0', 'Tuesday': '8:0-17:0', ...</td>\n",
       "    </tr>\n",
       "    <tr>\n",
       "      <th>...</th>\n",
       "      <td>...</td>\n",
       "      <td>...</td>\n",
       "      <td>...</td>\n",
       "      <td>...</td>\n",
       "      <td>...</td>\n",
       "      <td>...</td>\n",
       "      <td>...</td>\n",
       "      <td>...</td>\n",
       "      <td>...</td>\n",
       "      <td>...</td>\n",
       "      <td>...</td>\n",
       "      <td>...</td>\n",
       "      <td>...</td>\n",
       "      <td>...</td>\n",
       "      <td>...</td>\n",
       "    </tr>\n",
       "    <tr>\n",
       "      <th>188588</th>\n",
       "      <td>sMQAZ3DkfrURFoJAyOhjEw</td>\n",
       "      <td>Ross Massage</td>\n",
       "      <td></td>\n",
       "      <td>8000 McKnight Rd, Ste 570</td>\n",
       "      <td>Pittsburgh</td>\n",
       "      <td>PA</td>\n",
       "      <td>15237</td>\n",
       "      <td>40.551152</td>\n",
       "      <td>-80.021213</td>\n",
       "      <td>2.5</td>\n",
       "      <td>9</td>\n",
       "      <td>0</td>\n",
       "      <td>{'AcceptsInsurance': 'False', 'BusinessAccepts...</td>\n",
       "      <td>Skin Care, Beauty &amp; Spas, Day Spas, Massage</td>\n",
       "      <td>{'Monday': '10:0-21:0', 'Tuesday': '10:0-21:0'...</td>\n",
       "    </tr>\n",
       "    <tr>\n",
       "      <th>188589</th>\n",
       "      <td>6hvuCibNS4uECetHb9MCQQ</td>\n",
       "      <td>Four Seasons Boutique</td>\n",
       "      <td></td>\n",
       "      <td>3341 Babcock Blvd</td>\n",
       "      <td>Pittsburgh</td>\n",
       "      <td>PA</td>\n",
       "      <td>15237</td>\n",
       "      <td>40.534242</td>\n",
       "      <td>-80.019556</td>\n",
       "      <td>2.0</td>\n",
       "      <td>5</td>\n",
       "      <td>1</td>\n",
       "      <td>None</td>\n",
       "      <td>Fashion, Women's Clothing, Accessories, Bridal...</td>\n",
       "      <td>None</td>\n",
       "    </tr>\n",
       "    <tr>\n",
       "      <th>188590</th>\n",
       "      <td>KleCXFYOmdACcQUvf6_XEg</td>\n",
       "      <td>Walmart Supercenter</td>\n",
       "      <td></td>\n",
       "      <td>5825 Thunder Rd</td>\n",
       "      <td>Concord</td>\n",
       "      <td>NC</td>\n",
       "      <td>28027</td>\n",
       "      <td>35.378669</td>\n",
       "      <td>-80.724733</td>\n",
       "      <td>3.0</td>\n",
       "      <td>26</td>\n",
       "      <td>1</td>\n",
       "      <td>{'BikeParking': 'True', 'BusinessAcceptsCredit...</td>\n",
       "      <td>Mobile Phones, Shopping, Department Stores, Fo...</td>\n",
       "      <td>{'Monday': '0:0-0:0', 'Tuesday': '0:0-0:0', 'W...</td>\n",
       "    </tr>\n",
       "    <tr>\n",
       "      <th>188591</th>\n",
       "      <td>3_fIsSxN2RBovQ_6EFtLzA</td>\n",
       "      <td>Residence Inn Charlotte Concord</td>\n",
       "      <td></td>\n",
       "      <td>7601 Scott Padgett Pkwy</td>\n",
       "      <td>Concord</td>\n",
       "      <td>NC</td>\n",
       "      <td>28027</td>\n",
       "      <td>35.364366</td>\n",
       "      <td>-80.703454</td>\n",
       "      <td>4.0</td>\n",
       "      <td>19</td>\n",
       "      <td>1</td>\n",
       "      <td>{'BusinessAcceptsCreditCards': 'True', 'DogsAl...</td>\n",
       "      <td>Event Planning &amp; Services, Hotels &amp; Travel, Ho...</td>\n",
       "      <td>{'Monday': '0:0-0:0', 'Tuesday': '0:0-0:0', 'W...</td>\n",
       "    </tr>\n",
       "    <tr>\n",
       "      <th>188592</th>\n",
       "      <td>NkOvIueadjFUxeCyq_uQEw</td>\n",
       "      <td>Tito Jimy Salon and Boutique</td>\n",
       "      <td>Eastside</td>\n",
       "      <td>3900 Paradise Rd, Ste R</td>\n",
       "      <td>Las Vegas</td>\n",
       "      <td>NV</td>\n",
       "      <td>89169</td>\n",
       "      <td>36.118697</td>\n",
       "      <td>-115.154269</td>\n",
       "      <td>4.0</td>\n",
       "      <td>8</td>\n",
       "      <td>1</td>\n",
       "      <td>{'BikeParking': 'True', 'BusinessAcceptsCredit...</td>\n",
       "      <td>Makeup Artists, Men's Clothing, Swimwear, Shop...</td>\n",
       "      <td>{'Tuesday': '11:0-19:0', 'Wednesday': '11:0-19...</td>\n",
       "    </tr>\n",
       "  </tbody>\n",
       "</table>\n",
       "<p>188593 rows × 15 columns</p>\n",
       "</div>"
      ],
      "text/plain": [
       "                   business_id                             name  \\\n",
       "0       Apn5Q_b6Nz61Tq4XzPdf9A             Minhas Micro Brewery   \n",
       "1       AjEbIBw6ZFfln7ePHha9PA              CK'S BBQ & Catering   \n",
       "2       O8S5hYJ1SMc8fA4QBtVujA                    La Bastringue   \n",
       "3       bFzdJJ3wp3PZssNEsyU23g                  Geico Insurance   \n",
       "4       8USyCYqpScwiNEb58Bt6CA                    Action Engine   \n",
       "...                        ...                              ...   \n",
       "188588  sMQAZ3DkfrURFoJAyOhjEw                     Ross Massage   \n",
       "188589  6hvuCibNS4uECetHb9MCQQ            Four Seasons Boutique   \n",
       "188590  KleCXFYOmdACcQUvf6_XEg              Walmart Supercenter   \n",
       "188591  3_fIsSxN2RBovQ_6EFtLzA  Residence Inn Charlotte Concord   \n",
       "188592  NkOvIueadjFUxeCyq_uQEw     Tito Jimy Salon and Boutique   \n",
       "\n",
       "                     neighborhood                    address        city  \\\n",
       "0                                          1314 44 Avenue NE     Calgary   \n",
       "1                                                              Henderson   \n",
       "2       Rosemont-La Petite-Patrie        1335 rue Beaubien E    Montréal   \n",
       "3                                            211 W Monroe St     Phoenix   \n",
       "4                                        2005 Alyth Place SE     Calgary   \n",
       "...                           ...                        ...         ...   \n",
       "188588                             8000 McKnight Rd, Ste 570  Pittsburgh   \n",
       "188589                                     3341 Babcock Blvd  Pittsburgh   \n",
       "188590                                       5825 Thunder Rd     Concord   \n",
       "188591                               7601 Scott Padgett Pkwy     Concord   \n",
       "188592                   Eastside    3900 Paradise Rd, Ste R   Las Vegas   \n",
       "\n",
       "       state postal_code   latitude   longitude  stars  review_count  is_open  \\\n",
       "0         AB     T2E 6L6  51.091813 -114.031675    4.0            24        1   \n",
       "1         NV       89002  35.960734 -114.939821    4.5             3        0   \n",
       "2         QC     H2G 1K7  45.540503  -73.599300    4.0             5        0   \n",
       "3         AZ       85003  33.449999 -112.076979    1.5             8        1   \n",
       "4         AB     T2H 0N5  51.035591 -114.027366    2.0             4        1   \n",
       "...      ...         ...        ...         ...    ...           ...      ...   \n",
       "188588    PA       15237  40.551152  -80.021213    2.5             9        0   \n",
       "188589    PA       15237  40.534242  -80.019556    2.0             5        1   \n",
       "188590    NC       28027  35.378669  -80.724733    3.0            26        1   \n",
       "188591    NC       28027  35.364366  -80.703454    4.0            19        1   \n",
       "188592    NV       89169  36.118697 -115.154269    4.0             8        1   \n",
       "\n",
       "                                               attributes  \\\n",
       "0       {'BikeParking': 'False', 'BusinessAcceptsCredi...   \n",
       "1       {'Alcohol': 'none', 'BikeParking': 'False', 'B...   \n",
       "2       {'Alcohol': 'beer_and_wine', 'Ambience': '{'ro...   \n",
       "3                                                    None   \n",
       "4                  {'BusinessAcceptsCreditCards': 'True'}   \n",
       "...                                                   ...   \n",
       "188588  {'AcceptsInsurance': 'False', 'BusinessAccepts...   \n",
       "188589                                               None   \n",
       "188590  {'BikeParking': 'True', 'BusinessAcceptsCredit...   \n",
       "188591  {'BusinessAcceptsCreditCards': 'True', 'DogsAl...   \n",
       "188592  {'BikeParking': 'True', 'BusinessAcceptsCredit...   \n",
       "\n",
       "                                               categories  \\\n",
       "0       Tours, Breweries, Pizza, Restaurants, Food, Ho...   \n",
       "1       Chicken Wings, Burgers, Caterers, Street Vendo...   \n",
       "2       Breakfast & Brunch, Restaurants, French, Sandw...   \n",
       "3                           Insurance, Financial Services   \n",
       "4       Home & Garden, Nurseries & Gardening, Shopping...   \n",
       "...                                                   ...   \n",
       "188588        Skin Care, Beauty & Spas, Day Spas, Massage   \n",
       "188589  Fashion, Women's Clothing, Accessories, Bridal...   \n",
       "188590  Mobile Phones, Shopping, Department Stores, Fo...   \n",
       "188591  Event Planning & Services, Hotels & Travel, Ho...   \n",
       "188592  Makeup Artists, Men's Clothing, Swimwear, Shop...   \n",
       "\n",
       "                                                    hours  \n",
       "0       {'Monday': '8:30-17:0', 'Tuesday': '11:0-21:0'...  \n",
       "1       {'Friday': '17:0-23:0', 'Saturday': '17:0-23:0...  \n",
       "2       {'Monday': '10:0-22:0', 'Tuesday': '10:0-22:0'...  \n",
       "3                                                    None  \n",
       "4       {'Monday': '8:0-17:0', 'Tuesday': '8:0-17:0', ...  \n",
       "...                                                   ...  \n",
       "188588  {'Monday': '10:0-21:0', 'Tuesday': '10:0-21:0'...  \n",
       "188589                                               None  \n",
       "188590  {'Monday': '0:0-0:0', 'Tuesday': '0:0-0:0', 'W...  \n",
       "188591  {'Monday': '0:0-0:0', 'Tuesday': '0:0-0:0', 'W...  \n",
       "188592  {'Tuesday': '11:0-19:0', 'Wednesday': '11:0-19...  \n",
       "\n",
       "[188593 rows x 15 columns]"
      ]
     },
     "execution_count": 52,
     "metadata": {},
     "output_type": "execute_result"
    }
   ],
   "source": [
    "df"
   ]
  },
  {
   "cell_type": "code",
   "execution_count": 53,
   "metadata": {},
   "outputs": [
    {
     "name": "stdout",
     "output_type": "stream",
     "text": [
      "188593\n",
      "188593\n"
     ]
    }
   ],
   "source": [
    "print(len(df))\n",
    "\n",
    "df.dropna()\n",
    "print(len(df))"
   ]
  },
  {
   "cell_type": "markdown",
   "metadata": {
    "id": "vKGDOp4L1Sdd"
   },
   "source": [
    "# Data Exploration: Exploring the Yelp Dataset\n",
    "\n",
    "**(1) Finding the most popular business categories:** \n",
    "* print the top 10 most popular business categories in the dataset and their counts in a table (i.e., how many business objects in each category). Here we say a category is \"popular\" if there are many business objects in this category (such as 'restaurants')."
   ]
  },
  {
   "cell_type": "code",
   "execution_count": 58,
   "metadata": {
    "id": "WO9CD9Dd1Sdd",
    "outputId": "7ffe3609-4b60-4691-e82a-4e0d7a2d6291"
   },
   "outputs": [],
   "source": [
    "# Your code starts here\n",
    "#   Please add comments or text cells in between to explain the general idea of each block of the code.\n",
    "#   Please feel free to add more cells below this cell if necessary\n",
    "c = \" \"\n",
    "for j in df['categories']:\n",
    "    if j != None:\n",
    "        c = c + j\n"
   ]
  },
  {
   "cell_type": "code",
   "execution_count": 61,
   "metadata": {},
   "outputs": [],
   "source": [
    "categories = c.split(\",\")"
   ]
  },
  {
   "cell_type": "code",
   "execution_count": 65,
   "metadata": {},
   "outputs": [
    {
     "data": {
      "text/plain": [
       "[(' Restaurants', 21237),\n",
       " (' Shopping', 14914),\n",
       " (' Food', 11874),\n",
       " (' Home Services', 8015),\n",
       " (' Health & Medical', 7430),\n",
       " (' Beauty & Spas', 7280),\n",
       " (' Nightlife', 7103),\n",
       " (' Bars', 6479),\n",
       " (' Local Services', 6266),\n",
       " (' Event Planning & Services', 5310)]"
      ]
     },
     "execution_count": 65,
     "metadata": {},
     "output_type": "execute_result"
    }
   ],
   "source": [
    "from collections import Counter\n",
    "counts = Counter(categories)\n",
    "counts.most_common(10)"
   ]
  },
  {
   "cell_type": "markdown",
   "metadata": {
    "id": "ZjAPbMYD1Sde"
   },
   "source": [
    "**(2) Find the most popular business objects** \n",
    "* print the top 10 most popular business objects/IDs in the dataset and their counts (i.e., how many checkins in total for each business object).  Here we say a business object is \"popular\" if the business object attracts a large number of checkins from the users."
   ]
  },
  {
   "cell_type": "code",
   "execution_count": 4,
   "metadata": {
    "id": "DXg2InDM1Sdf"
   },
   "outputs": [],
   "source": [
    "# Your code starts here\n",
    "#   Please add comments or text cells in between to explain the general idea of each block of the code.\n",
    "#   Please feel free to add more cells below this cell if necessary\n",
    "\n",
    "\n",
    "\n",
    "\n"
   ]
  },
  {
   "cell_type": "markdown",
   "metadata": {},
   "source": [
    "**(3) Other explorations you would like to present** \n"
   ]
  },
  {
   "cell_type": "code",
   "execution_count": 3,
   "metadata": {},
   "outputs": [],
   "source": [
    "# Your code starts here\n",
    "#   Please add comments or text cells in between to explain the general idea of each block of the code.\n",
    "#   Please feel free to add more cells below this cell if necessary\n",
    "\n",
    "\n",
    "\n",
    "\n"
   ]
  },
  {
   "cell_type": "markdown",
   "metadata": {
    "id": "7IbdcxqY1Sdf"
   },
   "source": [
    "# The Solution: implement a data science solution to the problem you are trying to solve."
   ]
  },
  {
   "cell_type": "markdown",
   "metadata": {
    "id": "XIx5tnbW1Sdg"
   },
   "source": [
    "Briefly describe the idea of your solution to the problem in the following cell:"
   ]
  },
  {
   "cell_type": "code",
   "execution_count": null,
   "metadata": {
    "id": "jt-daX3n1Sdg"
   },
   "outputs": [],
   "source": [
    "\n",
    "\n",
    "\n",
    "\n",
    "\n",
    "\n",
    "\n",
    "\n",
    "\n",
    "\n"
   ]
  },
  {
   "cell_type": "markdown",
   "metadata": {
    "id": "-VS6bpHN1Sdg"
   },
   "source": [
    "Write codes to implement the solution in python:"
   ]
  },
  {
   "cell_type": "code",
   "execution_count": null,
   "metadata": {
    "id": "1Rkcv4oH1Sdg"
   },
   "outputs": [],
   "source": [
    "# Your code starts here\n",
    "#   Please add comments or text cells in between to explain the general idea of each block of the code.\n",
    "#   Please feel free to add more cells below this cell if necessary\n",
    "\n",
    "\n",
    "\n",
    "\n",
    "\n",
    "\n",
    "\n",
    "\n",
    "\n",
    "\n"
   ]
  },
  {
   "cell_type": "markdown",
   "metadata": {
    "id": "-EKH65Yn1Sdh"
   },
   "source": [
    "# Results: summarize and visualize the results discovered from the analysis\n",
    "\n",
    "Please use figures or tables to present the results.\n"
   ]
  },
  {
   "cell_type": "code",
   "execution_count": null,
   "metadata": {
    "id": "ShAIRklE1Sdh"
   },
   "outputs": [],
   "source": [
    "# Your code starts here\n",
    "#   Please add comments or text cells in between to explain the general idea of each block of the code.\n",
    "#   Please feel free to add more cells below this cell if necessary\n",
    "\n",
    "\n",
    "\n",
    "\n",
    "\n",
    "\n"
   ]
  },
  {
   "cell_type": "markdown",
   "metadata": {
    "id": "Ce_2EH8k1Sdh"
   },
   "source": [
    "*-----------------\n",
    "# Done\n",
    "\n",
    "All set! \n",
    "\n",
    "** What do you need to submit?**\n",
    "\n",
    "* **Notebook File**: Save this Jupyter notebook, and submit it in BrightSpace. Please make sure all the plotted tables and figures are in the notebook. "
   ]
  },
  {
   "cell_type": "code",
   "execution_count": null,
   "metadata": {
    "id": "uhVU48e61Sdi"
   },
   "outputs": [],
   "source": []
  }
 ],
 "metadata": {
  "colab": {
   "provenance": []
  },
  "kernelspec": {
   "display_name": "Python 3 (ipykernel)",
   "language": "python",
   "name": "python3"
  },
  "language_info": {
   "codemirror_mode": {
    "name": "ipython",
    "version": 3
   },
   "file_extension": ".py",
   "mimetype": "text/x-python",
   "name": "python",
   "nbconvert_exporter": "python",
   "pygments_lexer": "ipython3",
   "version": "3.9.12"
  }
 },
 "nbformat": 4,
 "nbformat_minor": 1
}
